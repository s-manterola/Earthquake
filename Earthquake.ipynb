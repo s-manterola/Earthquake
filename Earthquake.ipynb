{
  "nbformat": 4,
  "nbformat_minor": 0,
  "metadata": {
    "colab": {
      "provenance": [],
      "authorship_tag": "ABX9TyPJJGyk6k6g9NrGeqWIHq3z",
      "include_colab_link": true
    },
    "kernelspec": {
      "name": "python3",
      "display_name": "Python 3"
    },
    "language_info": {
      "name": "python"
    }
  },
  "cells": [
    {
      "cell_type": "markdown",
      "metadata": {
        "id": "view-in-github",
        "colab_type": "text"
      },
      "source": [
        "<a href=\"https://colab.research.google.com/github/s-manterola/Earthquake/blob/main/Earthquake.ipynb\" target=\"_parent\"><img src=\"https://colab.research.google.com/assets/colab-badge.svg\" alt=\"Open In Colab\"/></a>"
      ]
    },
    {
      "cell_type": "code",
      "execution_count": 39,
      "metadata": {
        "colab": {
          "base_uri": "https://localhost:8080/"
        },
        "id": "zjsdtV0CI43x",
        "outputId": "1612edcc-f6f2-4066-ed38-30a121cab62d"
      },
      "outputs": [
        {
          "output_type": "stream",
          "name": "stdout",
          "text": [
            "Drive already mounted at /content/drive; to attempt to forcibly remount, call drive.mount(\"/content/drive\", force_remount=True).\n"
          ]
        }
      ],
      "source": [
        "from google.colab import drive\n",
        "drive.mount('/content/drive')"
      ]
    },
    {
      "cell_type": "code",
      "source": [
        "import pandas as pd\n",
        "from numpy import datetime64\n",
        "import numpy as np\n",
        "import math\n",
        "import matplotlib.pyplot as plt"
      ],
      "metadata": {
        "id": "qtePvGQYJHoF"
      },
      "execution_count": 40,
      "outputs": []
    },
    {
      "cell_type": "code",
      "source": [
        "filename = '/content/drive/MyDrive/Colab Notebooks/Bootcamp/Earthquake/Base de datos/database.csv'\n",
        "\n",
        "df = pd.read_csv(filename)"
      ],
      "metadata": {
        "id": "UCtQ0mi5JJpx"
      },
      "execution_count": 41,
      "outputs": []
    },
    {
      "cell_type": "code",
      "source": [
        "df.head()"
      ],
      "metadata": {
        "colab": {
          "base_uri": "https://localhost:8080/",
          "height": 334
        },
        "id": "tF056zrDJMD1",
        "outputId": "3d275bce-34f9-439a-82cc-6b6f0f057d2d"
      },
      "execution_count": 42,
      "outputs": [
        {
          "output_type": "execute_result",
          "data": {
            "text/plain": [
              "         Date      Time  Latitude  Longitude        Type  Depth  Depth Error  \\\n",
              "0  01/02/1965  13:44:18    19.246    145.616  Earthquake  131.6          NaN   \n",
              "1  01/04/1965  11:29:49     1.863    127.352  Earthquake   80.0          NaN   \n",
              "2  01/05/1965  18:05:58   -20.579   -173.972  Earthquake   20.0          NaN   \n",
              "3  01/08/1965  18:49:43   -59.076    -23.557  Earthquake   15.0          NaN   \n",
              "4  01/09/1965  13:32:50    11.938    126.427  Earthquake   15.0          NaN   \n",
              "\n",
              "   Depth Seismic Stations  Magnitude Magnitude Type  ...  \\\n",
              "0                     NaN        6.0             MW  ...   \n",
              "1                     NaN        5.8             MW  ...   \n",
              "2                     NaN        6.2             MW  ...   \n",
              "3                     NaN        5.8             MW  ...   \n",
              "4                     NaN        5.8             MW  ...   \n",
              "\n",
              "   Magnitude Seismic Stations  Azimuthal Gap  Horizontal Distance  \\\n",
              "0                         NaN            NaN                  NaN   \n",
              "1                         NaN            NaN                  NaN   \n",
              "2                         NaN            NaN                  NaN   \n",
              "3                         NaN            NaN                  NaN   \n",
              "4                         NaN            NaN                  NaN   \n",
              "\n",
              "   Horizontal Error  Root Mean Square            ID  Source Location Source  \\\n",
              "0               NaN               NaN  ISCGEM860706  ISCGEM          ISCGEM   \n",
              "1               NaN               NaN  ISCGEM860737  ISCGEM          ISCGEM   \n",
              "2               NaN               NaN  ISCGEM860762  ISCGEM          ISCGEM   \n",
              "3               NaN               NaN  ISCGEM860856  ISCGEM          ISCGEM   \n",
              "4               NaN               NaN  ISCGEM860890  ISCGEM          ISCGEM   \n",
              "\n",
              "  Magnitude Source     Status  \n",
              "0           ISCGEM  Automatic  \n",
              "1           ISCGEM  Automatic  \n",
              "2           ISCGEM  Automatic  \n",
              "3           ISCGEM  Automatic  \n",
              "4           ISCGEM  Automatic  \n",
              "\n",
              "[5 rows x 21 columns]"
            ],
            "text/html": [
              "\n",
              "  <div id=\"df-f25fd009-fe7e-40df-be4d-5cb51644cdab\">\n",
              "    <div class=\"colab-df-container\">\n",
              "      <div>\n",
              "<style scoped>\n",
              "    .dataframe tbody tr th:only-of-type {\n",
              "        vertical-align: middle;\n",
              "    }\n",
              "\n",
              "    .dataframe tbody tr th {\n",
              "        vertical-align: top;\n",
              "    }\n",
              "\n",
              "    .dataframe thead th {\n",
              "        text-align: right;\n",
              "    }\n",
              "</style>\n",
              "<table border=\"1\" class=\"dataframe\">\n",
              "  <thead>\n",
              "    <tr style=\"text-align: right;\">\n",
              "      <th></th>\n",
              "      <th>Date</th>\n",
              "      <th>Time</th>\n",
              "      <th>Latitude</th>\n",
              "      <th>Longitude</th>\n",
              "      <th>Type</th>\n",
              "      <th>Depth</th>\n",
              "      <th>Depth Error</th>\n",
              "      <th>Depth Seismic Stations</th>\n",
              "      <th>Magnitude</th>\n",
              "      <th>Magnitude Type</th>\n",
              "      <th>...</th>\n",
              "      <th>Magnitude Seismic Stations</th>\n",
              "      <th>Azimuthal Gap</th>\n",
              "      <th>Horizontal Distance</th>\n",
              "      <th>Horizontal Error</th>\n",
              "      <th>Root Mean Square</th>\n",
              "      <th>ID</th>\n",
              "      <th>Source</th>\n",
              "      <th>Location Source</th>\n",
              "      <th>Magnitude Source</th>\n",
              "      <th>Status</th>\n",
              "    </tr>\n",
              "  </thead>\n",
              "  <tbody>\n",
              "    <tr>\n",
              "      <th>0</th>\n",
              "      <td>01/02/1965</td>\n",
              "      <td>13:44:18</td>\n",
              "      <td>19.246</td>\n",
              "      <td>145.616</td>\n",
              "      <td>Earthquake</td>\n",
              "      <td>131.6</td>\n",
              "      <td>NaN</td>\n",
              "      <td>NaN</td>\n",
              "      <td>6.0</td>\n",
              "      <td>MW</td>\n",
              "      <td>...</td>\n",
              "      <td>NaN</td>\n",
              "      <td>NaN</td>\n",
              "      <td>NaN</td>\n",
              "      <td>NaN</td>\n",
              "      <td>NaN</td>\n",
              "      <td>ISCGEM860706</td>\n",
              "      <td>ISCGEM</td>\n",
              "      <td>ISCGEM</td>\n",
              "      <td>ISCGEM</td>\n",
              "      <td>Automatic</td>\n",
              "    </tr>\n",
              "    <tr>\n",
              "      <th>1</th>\n",
              "      <td>01/04/1965</td>\n",
              "      <td>11:29:49</td>\n",
              "      <td>1.863</td>\n",
              "      <td>127.352</td>\n",
              "      <td>Earthquake</td>\n",
              "      <td>80.0</td>\n",
              "      <td>NaN</td>\n",
              "      <td>NaN</td>\n",
              "      <td>5.8</td>\n",
              "      <td>MW</td>\n",
              "      <td>...</td>\n",
              "      <td>NaN</td>\n",
              "      <td>NaN</td>\n",
              "      <td>NaN</td>\n",
              "      <td>NaN</td>\n",
              "      <td>NaN</td>\n",
              "      <td>ISCGEM860737</td>\n",
              "      <td>ISCGEM</td>\n",
              "      <td>ISCGEM</td>\n",
              "      <td>ISCGEM</td>\n",
              "      <td>Automatic</td>\n",
              "    </tr>\n",
              "    <tr>\n",
              "      <th>2</th>\n",
              "      <td>01/05/1965</td>\n",
              "      <td>18:05:58</td>\n",
              "      <td>-20.579</td>\n",
              "      <td>-173.972</td>\n",
              "      <td>Earthquake</td>\n",
              "      <td>20.0</td>\n",
              "      <td>NaN</td>\n",
              "      <td>NaN</td>\n",
              "      <td>6.2</td>\n",
              "      <td>MW</td>\n",
              "      <td>...</td>\n",
              "      <td>NaN</td>\n",
              "      <td>NaN</td>\n",
              "      <td>NaN</td>\n",
              "      <td>NaN</td>\n",
              "      <td>NaN</td>\n",
              "      <td>ISCGEM860762</td>\n",
              "      <td>ISCGEM</td>\n",
              "      <td>ISCGEM</td>\n",
              "      <td>ISCGEM</td>\n",
              "      <td>Automatic</td>\n",
              "    </tr>\n",
              "    <tr>\n",
              "      <th>3</th>\n",
              "      <td>01/08/1965</td>\n",
              "      <td>18:49:43</td>\n",
              "      <td>-59.076</td>\n",
              "      <td>-23.557</td>\n",
              "      <td>Earthquake</td>\n",
              "      <td>15.0</td>\n",
              "      <td>NaN</td>\n",
              "      <td>NaN</td>\n",
              "      <td>5.8</td>\n",
              "      <td>MW</td>\n",
              "      <td>...</td>\n",
              "      <td>NaN</td>\n",
              "      <td>NaN</td>\n",
              "      <td>NaN</td>\n",
              "      <td>NaN</td>\n",
              "      <td>NaN</td>\n",
              "      <td>ISCGEM860856</td>\n",
              "      <td>ISCGEM</td>\n",
              "      <td>ISCGEM</td>\n",
              "      <td>ISCGEM</td>\n",
              "      <td>Automatic</td>\n",
              "    </tr>\n",
              "    <tr>\n",
              "      <th>4</th>\n",
              "      <td>01/09/1965</td>\n",
              "      <td>13:32:50</td>\n",
              "      <td>11.938</td>\n",
              "      <td>126.427</td>\n",
              "      <td>Earthquake</td>\n",
              "      <td>15.0</td>\n",
              "      <td>NaN</td>\n",
              "      <td>NaN</td>\n",
              "      <td>5.8</td>\n",
              "      <td>MW</td>\n",
              "      <td>...</td>\n",
              "      <td>NaN</td>\n",
              "      <td>NaN</td>\n",
              "      <td>NaN</td>\n",
              "      <td>NaN</td>\n",
              "      <td>NaN</td>\n",
              "      <td>ISCGEM860890</td>\n",
              "      <td>ISCGEM</td>\n",
              "      <td>ISCGEM</td>\n",
              "      <td>ISCGEM</td>\n",
              "      <td>Automatic</td>\n",
              "    </tr>\n",
              "  </tbody>\n",
              "</table>\n",
              "<p>5 rows × 21 columns</p>\n",
              "</div>\n",
              "      <button class=\"colab-df-convert\" onclick=\"convertToInteractive('df-f25fd009-fe7e-40df-be4d-5cb51644cdab')\"\n",
              "              title=\"Convert this dataframe to an interactive table.\"\n",
              "              style=\"display:none;\">\n",
              "        \n",
              "  <svg xmlns=\"http://www.w3.org/2000/svg\" height=\"24px\"viewBox=\"0 0 24 24\"\n",
              "       width=\"24px\">\n",
              "    <path d=\"M0 0h24v24H0V0z\" fill=\"none\"/>\n",
              "    <path d=\"M18.56 5.44l.94 2.06.94-2.06 2.06-.94-2.06-.94-.94-2.06-.94 2.06-2.06.94zm-11 1L8.5 8.5l.94-2.06 2.06-.94-2.06-.94L8.5 2.5l-.94 2.06-2.06.94zm10 10l.94 2.06.94-2.06 2.06-.94-2.06-.94-.94-2.06-.94 2.06-2.06.94z\"/><path d=\"M17.41 7.96l-1.37-1.37c-.4-.4-.92-.59-1.43-.59-.52 0-1.04.2-1.43.59L10.3 9.45l-7.72 7.72c-.78.78-.78 2.05 0 2.83L4 21.41c.39.39.9.59 1.41.59.51 0 1.02-.2 1.41-.59l7.78-7.78 2.81-2.81c.8-.78.8-2.07 0-2.86zM5.41 20L4 18.59l7.72-7.72 1.47 1.35L5.41 20z\"/>\n",
              "  </svg>\n",
              "      </button>\n",
              "      \n",
              "  <style>\n",
              "    .colab-df-container {\n",
              "      display:flex;\n",
              "      flex-wrap:wrap;\n",
              "      gap: 12px;\n",
              "    }\n",
              "\n",
              "    .colab-df-convert {\n",
              "      background-color: #E8F0FE;\n",
              "      border: none;\n",
              "      border-radius: 50%;\n",
              "      cursor: pointer;\n",
              "      display: none;\n",
              "      fill: #1967D2;\n",
              "      height: 32px;\n",
              "      padding: 0 0 0 0;\n",
              "      width: 32px;\n",
              "    }\n",
              "\n",
              "    .colab-df-convert:hover {\n",
              "      background-color: #E2EBFA;\n",
              "      box-shadow: 0px 1px 2px rgba(60, 64, 67, 0.3), 0px 1px 3px 1px rgba(60, 64, 67, 0.15);\n",
              "      fill: #174EA6;\n",
              "    }\n",
              "\n",
              "    [theme=dark] .colab-df-convert {\n",
              "      background-color: #3B4455;\n",
              "      fill: #D2E3FC;\n",
              "    }\n",
              "\n",
              "    [theme=dark] .colab-df-convert:hover {\n",
              "      background-color: #434B5C;\n",
              "      box-shadow: 0px 1px 3px 1px rgba(0, 0, 0, 0.15);\n",
              "      filter: drop-shadow(0px 1px 2px rgba(0, 0, 0, 0.3));\n",
              "      fill: #FFFFFF;\n",
              "    }\n",
              "  </style>\n",
              "\n",
              "      <script>\n",
              "        const buttonEl =\n",
              "          document.querySelector('#df-f25fd009-fe7e-40df-be4d-5cb51644cdab button.colab-df-convert');\n",
              "        buttonEl.style.display =\n",
              "          google.colab.kernel.accessAllowed ? 'block' : 'none';\n",
              "\n",
              "        async function convertToInteractive(key) {\n",
              "          const element = document.querySelector('#df-f25fd009-fe7e-40df-be4d-5cb51644cdab');\n",
              "          const dataTable =\n",
              "            await google.colab.kernel.invokeFunction('convertToInteractive',\n",
              "                                                     [key], {});\n",
              "          if (!dataTable) return;\n",
              "\n",
              "          const docLinkHtml = 'Like what you see? Visit the ' +\n",
              "            '<a target=\"_blank\" href=https://colab.research.google.com/notebooks/data_table.ipynb>data table notebook</a>'\n",
              "            + ' to learn more about interactive tables.';\n",
              "          element.innerHTML = '';\n",
              "          dataTable['output_type'] = 'display_data';\n",
              "          await google.colab.output.renderOutput(dataTable, element);\n",
              "          const docLink = document.createElement('div');\n",
              "          docLink.innerHTML = docLinkHtml;\n",
              "          element.appendChild(docLink);\n",
              "        }\n",
              "      </script>\n",
              "    </div>\n",
              "  </div>\n",
              "  "
            ]
          },
          "metadata": {},
          "execution_count": 42
        }
      ]
    },
    {
      "cell_type": "code",
      "source": [
        "df = df[['Date', 'Time', 'Latitude', 'Longitude', 'Depth', 'Magnitude']]\n",
        "df.head()"
      ],
      "metadata": {
        "colab": {
          "base_uri": "https://localhost:8080/",
          "height": 206
        },
        "id": "2-oxItMQJOJo",
        "outputId": "d914ee52-64e0-44e4-f320-87551011d358"
      },
      "execution_count": 43,
      "outputs": [
        {
          "output_type": "execute_result",
          "data": {
            "text/plain": [
              "         Date      Time  Latitude  Longitude  Depth  Magnitude\n",
              "0  01/02/1965  13:44:18    19.246    145.616  131.6        6.0\n",
              "1  01/04/1965  11:29:49     1.863    127.352   80.0        5.8\n",
              "2  01/05/1965  18:05:58   -20.579   -173.972   20.0        6.2\n",
              "3  01/08/1965  18:49:43   -59.076    -23.557   15.0        5.8\n",
              "4  01/09/1965  13:32:50    11.938    126.427   15.0        5.8"
            ],
            "text/html": [
              "\n",
              "  <div id=\"df-fa760d33-b8e5-4aef-afde-e58509094ad7\">\n",
              "    <div class=\"colab-df-container\">\n",
              "      <div>\n",
              "<style scoped>\n",
              "    .dataframe tbody tr th:only-of-type {\n",
              "        vertical-align: middle;\n",
              "    }\n",
              "\n",
              "    .dataframe tbody tr th {\n",
              "        vertical-align: top;\n",
              "    }\n",
              "\n",
              "    .dataframe thead th {\n",
              "        text-align: right;\n",
              "    }\n",
              "</style>\n",
              "<table border=\"1\" class=\"dataframe\">\n",
              "  <thead>\n",
              "    <tr style=\"text-align: right;\">\n",
              "      <th></th>\n",
              "      <th>Date</th>\n",
              "      <th>Time</th>\n",
              "      <th>Latitude</th>\n",
              "      <th>Longitude</th>\n",
              "      <th>Depth</th>\n",
              "      <th>Magnitude</th>\n",
              "    </tr>\n",
              "  </thead>\n",
              "  <tbody>\n",
              "    <tr>\n",
              "      <th>0</th>\n",
              "      <td>01/02/1965</td>\n",
              "      <td>13:44:18</td>\n",
              "      <td>19.246</td>\n",
              "      <td>145.616</td>\n",
              "      <td>131.6</td>\n",
              "      <td>6.0</td>\n",
              "    </tr>\n",
              "    <tr>\n",
              "      <th>1</th>\n",
              "      <td>01/04/1965</td>\n",
              "      <td>11:29:49</td>\n",
              "      <td>1.863</td>\n",
              "      <td>127.352</td>\n",
              "      <td>80.0</td>\n",
              "      <td>5.8</td>\n",
              "    </tr>\n",
              "    <tr>\n",
              "      <th>2</th>\n",
              "      <td>01/05/1965</td>\n",
              "      <td>18:05:58</td>\n",
              "      <td>-20.579</td>\n",
              "      <td>-173.972</td>\n",
              "      <td>20.0</td>\n",
              "      <td>6.2</td>\n",
              "    </tr>\n",
              "    <tr>\n",
              "      <th>3</th>\n",
              "      <td>01/08/1965</td>\n",
              "      <td>18:49:43</td>\n",
              "      <td>-59.076</td>\n",
              "      <td>-23.557</td>\n",
              "      <td>15.0</td>\n",
              "      <td>5.8</td>\n",
              "    </tr>\n",
              "    <tr>\n",
              "      <th>4</th>\n",
              "      <td>01/09/1965</td>\n",
              "      <td>13:32:50</td>\n",
              "      <td>11.938</td>\n",
              "      <td>126.427</td>\n",
              "      <td>15.0</td>\n",
              "      <td>5.8</td>\n",
              "    </tr>\n",
              "  </tbody>\n",
              "</table>\n",
              "</div>\n",
              "      <button class=\"colab-df-convert\" onclick=\"convertToInteractive('df-fa760d33-b8e5-4aef-afde-e58509094ad7')\"\n",
              "              title=\"Convert this dataframe to an interactive table.\"\n",
              "              style=\"display:none;\">\n",
              "        \n",
              "  <svg xmlns=\"http://www.w3.org/2000/svg\" height=\"24px\"viewBox=\"0 0 24 24\"\n",
              "       width=\"24px\">\n",
              "    <path d=\"M0 0h24v24H0V0z\" fill=\"none\"/>\n",
              "    <path d=\"M18.56 5.44l.94 2.06.94-2.06 2.06-.94-2.06-.94-.94-2.06-.94 2.06-2.06.94zm-11 1L8.5 8.5l.94-2.06 2.06-.94-2.06-.94L8.5 2.5l-.94 2.06-2.06.94zm10 10l.94 2.06.94-2.06 2.06-.94-2.06-.94-.94-2.06-.94 2.06-2.06.94z\"/><path d=\"M17.41 7.96l-1.37-1.37c-.4-.4-.92-.59-1.43-.59-.52 0-1.04.2-1.43.59L10.3 9.45l-7.72 7.72c-.78.78-.78 2.05 0 2.83L4 21.41c.39.39.9.59 1.41.59.51 0 1.02-.2 1.41-.59l7.78-7.78 2.81-2.81c.8-.78.8-2.07 0-2.86zM5.41 20L4 18.59l7.72-7.72 1.47 1.35L5.41 20z\"/>\n",
              "  </svg>\n",
              "      </button>\n",
              "      \n",
              "  <style>\n",
              "    .colab-df-container {\n",
              "      display:flex;\n",
              "      flex-wrap:wrap;\n",
              "      gap: 12px;\n",
              "    }\n",
              "\n",
              "    .colab-df-convert {\n",
              "      background-color: #E8F0FE;\n",
              "      border: none;\n",
              "      border-radius: 50%;\n",
              "      cursor: pointer;\n",
              "      display: none;\n",
              "      fill: #1967D2;\n",
              "      height: 32px;\n",
              "      padding: 0 0 0 0;\n",
              "      width: 32px;\n",
              "    }\n",
              "\n",
              "    .colab-df-convert:hover {\n",
              "      background-color: #E2EBFA;\n",
              "      box-shadow: 0px 1px 2px rgba(60, 64, 67, 0.3), 0px 1px 3px 1px rgba(60, 64, 67, 0.15);\n",
              "      fill: #174EA6;\n",
              "    }\n",
              "\n",
              "    [theme=dark] .colab-df-convert {\n",
              "      background-color: #3B4455;\n",
              "      fill: #D2E3FC;\n",
              "    }\n",
              "\n",
              "    [theme=dark] .colab-df-convert:hover {\n",
              "      background-color: #434B5C;\n",
              "      box-shadow: 0px 1px 3px 1px rgba(0, 0, 0, 0.15);\n",
              "      filter: drop-shadow(0px 1px 2px rgba(0, 0, 0, 0.3));\n",
              "      fill: #FFFFFF;\n",
              "    }\n",
              "  </style>\n",
              "\n",
              "      <script>\n",
              "        const buttonEl =\n",
              "          document.querySelector('#df-fa760d33-b8e5-4aef-afde-e58509094ad7 button.colab-df-convert');\n",
              "        buttonEl.style.display =\n",
              "          google.colab.kernel.accessAllowed ? 'block' : 'none';\n",
              "\n",
              "        async function convertToInteractive(key) {\n",
              "          const element = document.querySelector('#df-fa760d33-b8e5-4aef-afde-e58509094ad7');\n",
              "          const dataTable =\n",
              "            await google.colab.kernel.invokeFunction('convertToInteractive',\n",
              "                                                     [key], {});\n",
              "          if (!dataTable) return;\n",
              "\n",
              "          const docLinkHtml = 'Like what you see? Visit the ' +\n",
              "            '<a target=\"_blank\" href=https://colab.research.google.com/notebooks/data_table.ipynb>data table notebook</a>'\n",
              "            + ' to learn more about interactive tables.';\n",
              "          element.innerHTML = '';\n",
              "          dataTable['output_type'] = 'display_data';\n",
              "          await google.colab.output.renderOutput(dataTable, element);\n",
              "          const docLink = document.createElement('div');\n",
              "          docLink.innerHTML = docLinkHtml;\n",
              "          element.appendChild(docLink);\n",
              "        }\n",
              "      </script>\n",
              "    </div>\n",
              "  </div>\n",
              "  "
            ]
          },
          "metadata": {},
          "execution_count": 43
        }
      ]
    },
    {
      "cell_type": "code",
      "source": [
        "df.info()"
      ],
      "metadata": {
        "colab": {
          "base_uri": "https://localhost:8080/"
        },
        "id": "gulYGKaIJRr1",
        "outputId": "1f6cedc1-7d71-48d3-a295-43fb1450c616"
      },
      "execution_count": 44,
      "outputs": [
        {
          "output_type": "stream",
          "name": "stdout",
          "text": [
            "<class 'pandas.core.frame.DataFrame'>\n",
            "RangeIndex: 23412 entries, 0 to 23411\n",
            "Data columns (total 6 columns):\n",
            " #   Column     Non-Null Count  Dtype  \n",
            "---  ------     --------------  -----  \n",
            " 0   Date       23412 non-null  object \n",
            " 1   Time       23412 non-null  object \n",
            " 2   Latitude   23412 non-null  float64\n",
            " 3   Longitude  23412 non-null  float64\n",
            " 4   Depth      23412 non-null  float64\n",
            " 5   Magnitude  23412 non-null  float64\n",
            "dtypes: float64(4), object(2)\n",
            "memory usage: 1.1+ MB\n"
          ]
        }
      ]
    },
    {
      "cell_type": "code",
      "source": [
        "while(True):\n",
        "  try:\n",
        "    pd.to_datetime(df['Date'], format='%m/%d/%Y')\n",
        "  except ValueError as err:\n",
        "    err = str(err)\n",
        "    er = err[err.index(\"'\")+1:err.index(\"'\",err.index(\"'\")+1)]\n",
        "\n",
        "    corD = er[er.index('-')+1: er.index('-')+3] + \"/\" + er[er.index('-')+4: er.index('-')+6] + \"/\" + er[0:er.index('-')]\n",
        "    corT = er[er.index('T')+1: er.index('Z')-4]\n",
        "\n",
        "    df['Date'].replace(er, corD, inplace = True)\n",
        "    df['Time'].replace(er, corT, inplace = True)\n",
        "  else:\n",
        "    break\n",
        "\n",
        "df['DateTime'] = pd.to_datetime(df['Date'] + ','+ df['Time'],format='%m/%d/%Y,%H:%M:%S')"
      ],
      "metadata": {
        "id": "-IM_A4NpJUTe"
      },
      "execution_count": 45,
      "outputs": []
    },
    {
      "cell_type": "code",
      "source": [
        "df.info()"
      ],
      "metadata": {
        "colab": {
          "base_uri": "https://localhost:8080/"
        },
        "id": "HSuTxiqkJXJh",
        "outputId": "866f6de4-a688-43c9-9429-906997eca047"
      },
      "execution_count": 46,
      "outputs": [
        {
          "output_type": "stream",
          "name": "stdout",
          "text": [
            "<class 'pandas.core.frame.DataFrame'>\n",
            "RangeIndex: 23412 entries, 0 to 23411\n",
            "Data columns (total 7 columns):\n",
            " #   Column     Non-Null Count  Dtype         \n",
            "---  ------     --------------  -----         \n",
            " 0   Date       23412 non-null  object        \n",
            " 1   Time       23412 non-null  object        \n",
            " 2   Latitude   23412 non-null  float64       \n",
            " 3   Longitude  23412 non-null  float64       \n",
            " 4   Depth      23412 non-null  float64       \n",
            " 5   Magnitude  23412 non-null  float64       \n",
            " 6   DateTime   23412 non-null  datetime64[ns]\n",
            "dtypes: datetime64[ns](1), float64(4), object(2)\n",
            "memory usage: 1.3+ MB\n"
          ]
        }
      ]
    },
    {
      "cell_type": "code",
      "source": [
        "df.head()"
      ],
      "metadata": {
        "colab": {
          "base_uri": "https://localhost:8080/",
          "height": 206
        },
        "id": "sryXhdtAJZZN",
        "outputId": "86c800e0-c02d-42ac-e828-6d5b3bb98f18"
      },
      "execution_count": 47,
      "outputs": [
        {
          "output_type": "execute_result",
          "data": {
            "text/plain": [
              "         Date      Time  Latitude  Longitude  Depth  Magnitude  \\\n",
              "0  01/02/1965  13:44:18    19.246    145.616  131.6        6.0   \n",
              "1  01/04/1965  11:29:49     1.863    127.352   80.0        5.8   \n",
              "2  01/05/1965  18:05:58   -20.579   -173.972   20.0        6.2   \n",
              "3  01/08/1965  18:49:43   -59.076    -23.557   15.0        5.8   \n",
              "4  01/09/1965  13:32:50    11.938    126.427   15.0        5.8   \n",
              "\n",
              "             DateTime  \n",
              "0 1965-01-02 13:44:18  \n",
              "1 1965-01-04 11:29:49  \n",
              "2 1965-01-05 18:05:58  \n",
              "3 1965-01-08 18:49:43  \n",
              "4 1965-01-09 13:32:50  "
            ],
            "text/html": [
              "\n",
              "  <div id=\"df-f611bbff-4d23-416b-9776-143ad652884d\">\n",
              "    <div class=\"colab-df-container\">\n",
              "      <div>\n",
              "<style scoped>\n",
              "    .dataframe tbody tr th:only-of-type {\n",
              "        vertical-align: middle;\n",
              "    }\n",
              "\n",
              "    .dataframe tbody tr th {\n",
              "        vertical-align: top;\n",
              "    }\n",
              "\n",
              "    .dataframe thead th {\n",
              "        text-align: right;\n",
              "    }\n",
              "</style>\n",
              "<table border=\"1\" class=\"dataframe\">\n",
              "  <thead>\n",
              "    <tr style=\"text-align: right;\">\n",
              "      <th></th>\n",
              "      <th>Date</th>\n",
              "      <th>Time</th>\n",
              "      <th>Latitude</th>\n",
              "      <th>Longitude</th>\n",
              "      <th>Depth</th>\n",
              "      <th>Magnitude</th>\n",
              "      <th>DateTime</th>\n",
              "    </tr>\n",
              "  </thead>\n",
              "  <tbody>\n",
              "    <tr>\n",
              "      <th>0</th>\n",
              "      <td>01/02/1965</td>\n",
              "      <td>13:44:18</td>\n",
              "      <td>19.246</td>\n",
              "      <td>145.616</td>\n",
              "      <td>131.6</td>\n",
              "      <td>6.0</td>\n",
              "      <td>1965-01-02 13:44:18</td>\n",
              "    </tr>\n",
              "    <tr>\n",
              "      <th>1</th>\n",
              "      <td>01/04/1965</td>\n",
              "      <td>11:29:49</td>\n",
              "      <td>1.863</td>\n",
              "      <td>127.352</td>\n",
              "      <td>80.0</td>\n",
              "      <td>5.8</td>\n",
              "      <td>1965-01-04 11:29:49</td>\n",
              "    </tr>\n",
              "    <tr>\n",
              "      <th>2</th>\n",
              "      <td>01/05/1965</td>\n",
              "      <td>18:05:58</td>\n",
              "      <td>-20.579</td>\n",
              "      <td>-173.972</td>\n",
              "      <td>20.0</td>\n",
              "      <td>6.2</td>\n",
              "      <td>1965-01-05 18:05:58</td>\n",
              "    </tr>\n",
              "    <tr>\n",
              "      <th>3</th>\n",
              "      <td>01/08/1965</td>\n",
              "      <td>18:49:43</td>\n",
              "      <td>-59.076</td>\n",
              "      <td>-23.557</td>\n",
              "      <td>15.0</td>\n",
              "      <td>5.8</td>\n",
              "      <td>1965-01-08 18:49:43</td>\n",
              "    </tr>\n",
              "    <tr>\n",
              "      <th>4</th>\n",
              "      <td>01/09/1965</td>\n",
              "      <td>13:32:50</td>\n",
              "      <td>11.938</td>\n",
              "      <td>126.427</td>\n",
              "      <td>15.0</td>\n",
              "      <td>5.8</td>\n",
              "      <td>1965-01-09 13:32:50</td>\n",
              "    </tr>\n",
              "  </tbody>\n",
              "</table>\n",
              "</div>\n",
              "      <button class=\"colab-df-convert\" onclick=\"convertToInteractive('df-f611bbff-4d23-416b-9776-143ad652884d')\"\n",
              "              title=\"Convert this dataframe to an interactive table.\"\n",
              "              style=\"display:none;\">\n",
              "        \n",
              "  <svg xmlns=\"http://www.w3.org/2000/svg\" height=\"24px\"viewBox=\"0 0 24 24\"\n",
              "       width=\"24px\">\n",
              "    <path d=\"M0 0h24v24H0V0z\" fill=\"none\"/>\n",
              "    <path d=\"M18.56 5.44l.94 2.06.94-2.06 2.06-.94-2.06-.94-.94-2.06-.94 2.06-2.06.94zm-11 1L8.5 8.5l.94-2.06 2.06-.94-2.06-.94L8.5 2.5l-.94 2.06-2.06.94zm10 10l.94 2.06.94-2.06 2.06-.94-2.06-.94-.94-2.06-.94 2.06-2.06.94z\"/><path d=\"M17.41 7.96l-1.37-1.37c-.4-.4-.92-.59-1.43-.59-.52 0-1.04.2-1.43.59L10.3 9.45l-7.72 7.72c-.78.78-.78 2.05 0 2.83L4 21.41c.39.39.9.59 1.41.59.51 0 1.02-.2 1.41-.59l7.78-7.78 2.81-2.81c.8-.78.8-2.07 0-2.86zM5.41 20L4 18.59l7.72-7.72 1.47 1.35L5.41 20z\"/>\n",
              "  </svg>\n",
              "      </button>\n",
              "      \n",
              "  <style>\n",
              "    .colab-df-container {\n",
              "      display:flex;\n",
              "      flex-wrap:wrap;\n",
              "      gap: 12px;\n",
              "    }\n",
              "\n",
              "    .colab-df-convert {\n",
              "      background-color: #E8F0FE;\n",
              "      border: none;\n",
              "      border-radius: 50%;\n",
              "      cursor: pointer;\n",
              "      display: none;\n",
              "      fill: #1967D2;\n",
              "      height: 32px;\n",
              "      padding: 0 0 0 0;\n",
              "      width: 32px;\n",
              "    }\n",
              "\n",
              "    .colab-df-convert:hover {\n",
              "      background-color: #E2EBFA;\n",
              "      box-shadow: 0px 1px 2px rgba(60, 64, 67, 0.3), 0px 1px 3px 1px rgba(60, 64, 67, 0.15);\n",
              "      fill: #174EA6;\n",
              "    }\n",
              "\n",
              "    [theme=dark] .colab-df-convert {\n",
              "      background-color: #3B4455;\n",
              "      fill: #D2E3FC;\n",
              "    }\n",
              "\n",
              "    [theme=dark] .colab-df-convert:hover {\n",
              "      background-color: #434B5C;\n",
              "      box-shadow: 0px 1px 3px 1px rgba(0, 0, 0, 0.15);\n",
              "      filter: drop-shadow(0px 1px 2px rgba(0, 0, 0, 0.3));\n",
              "      fill: #FFFFFF;\n",
              "    }\n",
              "  </style>\n",
              "\n",
              "      <script>\n",
              "        const buttonEl =\n",
              "          document.querySelector('#df-f611bbff-4d23-416b-9776-143ad652884d button.colab-df-convert');\n",
              "        buttonEl.style.display =\n",
              "          google.colab.kernel.accessAllowed ? 'block' : 'none';\n",
              "\n",
              "        async function convertToInteractive(key) {\n",
              "          const element = document.querySelector('#df-f611bbff-4d23-416b-9776-143ad652884d');\n",
              "          const dataTable =\n",
              "            await google.colab.kernel.invokeFunction('convertToInteractive',\n",
              "                                                     [key], {});\n",
              "          if (!dataTable) return;\n",
              "\n",
              "          const docLinkHtml = 'Like what you see? Visit the ' +\n",
              "            '<a target=\"_blank\" href=https://colab.research.google.com/notebooks/data_table.ipynb>data table notebook</a>'\n",
              "            + ' to learn more about interactive tables.';\n",
              "          element.innerHTML = '';\n",
              "          dataTable['output_type'] = 'display_data';\n",
              "          await google.colab.output.renderOutput(dataTable, element);\n",
              "          const docLink = document.createElement('div');\n",
              "          docLink.innerHTML = docLinkHtml;\n",
              "          element.appendChild(docLink);\n",
              "        }\n",
              "      </script>\n",
              "    </div>\n",
              "  </div>\n",
              "  "
            ]
          },
          "metadata": {},
          "execution_count": 47
        }
      ]
    },
    {
      "cell_type": "code",
      "source": [
        "#Parametros a definir:\n",
        "# Tiempo: tiempo desde el sismo en que se buscaran mas sismos (en segundos)\n",
        "# Distancia: Distancia desde el sismo en que se buscaran mas sismos (en kilometros)\n",
        "\n",
        "# Por ahora se definiran Tiempo: 864000s (10 dias), Distancia: 250km\n",
        "\n",
        "Tiempo = 864000\n",
        "Distancia = 250"
      ],
      "metadata": {
        "id": "jTHCCxOhJcE8"
      },
      "execution_count": 48,
      "outputs": []
    },
    {
      "cell_type": "code",
      "source": [
        "df['Replicas'] = 0"
      ],
      "metadata": {
        "id": "Odxf8KETJoEj"
      },
      "execution_count": 49,
      "outputs": []
    },
    {
      "cell_type": "code",
      "source": [
        "R = 6371 #Radio de la tierra en km\n",
        "\n",
        "for i in range(df.shape[0]):\n",
        "  for j in range(i+1,df.shape[0]):\n",
        "    if(i==j):\n",
        "      continue\n",
        "    d = math.acos(math.sin(math.radians(df.iloc[i,2]))*math.sin(math.radians(df.iloc[j,2]))+\n",
        "                  math.cos(math.radians(df.iloc[i,2]))*math.cos(math.radians(df.iloc[j,2]))*\n",
        "                  math.cos(math.radians(df.iloc[i,3]-df.iloc[j,3])))*R\n",
        "\n",
        "    dt = (df.iloc[j,6]-df.iloc[i,6]).total_seconds()\n",
        "    #print(dt)\n",
        "    if (dt > Tiempo):\n",
        "      break\n",
        "    elif (d <= Distancia):\n",
        "      df.iloc[i,7] = 1\n",
        "      break\n",
        "  #print(f\"Progreso: {i*10000/(df.shape[0]*100.0)}%\")"
      ],
      "metadata": {
        "id": "8ATNGHsFJqyF"
      },
      "execution_count": 50,
      "outputs": []
    },
    {
      "cell_type": "code",
      "source": [
        "df.describe()"
      ],
      "metadata": {
        "colab": {
          "base_uri": "https://localhost:8080/",
          "height": 300
        },
        "id": "T8jU2dw6KqT4",
        "outputId": "cfca95b6-b6d6-4d1a-8d9b-765b9079d667"
      },
      "execution_count": 51,
      "outputs": [
        {
          "output_type": "execute_result",
          "data": {
            "text/plain": [
              "           Latitude     Longitude         Depth     Magnitude      Replicas\n",
              "count  23412.000000  23412.000000  23412.000000  23412.000000  23412.000000\n",
              "mean       1.679033     39.639961     70.767911      5.882531      0.274774\n",
              "std       30.113183    125.511959    122.651898      0.423066      0.446410\n",
              "min      -77.080000   -179.997000     -1.100000      5.500000      0.000000\n",
              "25%      -18.653000    -76.349750     14.522500      5.600000      0.000000\n",
              "50%       -3.568500    103.982000     33.000000      5.700000      0.000000\n",
              "75%       26.190750    145.026250     54.000000      6.000000      1.000000\n",
              "max       86.005000    179.998000    700.000000      9.100000      1.000000"
            ],
            "text/html": [
              "\n",
              "  <div id=\"df-752de5d0-b2b5-4021-8a0f-927cc739f47a\">\n",
              "    <div class=\"colab-df-container\">\n",
              "      <div>\n",
              "<style scoped>\n",
              "    .dataframe tbody tr th:only-of-type {\n",
              "        vertical-align: middle;\n",
              "    }\n",
              "\n",
              "    .dataframe tbody tr th {\n",
              "        vertical-align: top;\n",
              "    }\n",
              "\n",
              "    .dataframe thead th {\n",
              "        text-align: right;\n",
              "    }\n",
              "</style>\n",
              "<table border=\"1\" class=\"dataframe\">\n",
              "  <thead>\n",
              "    <tr style=\"text-align: right;\">\n",
              "      <th></th>\n",
              "      <th>Latitude</th>\n",
              "      <th>Longitude</th>\n",
              "      <th>Depth</th>\n",
              "      <th>Magnitude</th>\n",
              "      <th>Replicas</th>\n",
              "    </tr>\n",
              "  </thead>\n",
              "  <tbody>\n",
              "    <tr>\n",
              "      <th>count</th>\n",
              "      <td>23412.000000</td>\n",
              "      <td>23412.000000</td>\n",
              "      <td>23412.000000</td>\n",
              "      <td>23412.000000</td>\n",
              "      <td>23412.000000</td>\n",
              "    </tr>\n",
              "    <tr>\n",
              "      <th>mean</th>\n",
              "      <td>1.679033</td>\n",
              "      <td>39.639961</td>\n",
              "      <td>70.767911</td>\n",
              "      <td>5.882531</td>\n",
              "      <td>0.274774</td>\n",
              "    </tr>\n",
              "    <tr>\n",
              "      <th>std</th>\n",
              "      <td>30.113183</td>\n",
              "      <td>125.511959</td>\n",
              "      <td>122.651898</td>\n",
              "      <td>0.423066</td>\n",
              "      <td>0.446410</td>\n",
              "    </tr>\n",
              "    <tr>\n",
              "      <th>min</th>\n",
              "      <td>-77.080000</td>\n",
              "      <td>-179.997000</td>\n",
              "      <td>-1.100000</td>\n",
              "      <td>5.500000</td>\n",
              "      <td>0.000000</td>\n",
              "    </tr>\n",
              "    <tr>\n",
              "      <th>25%</th>\n",
              "      <td>-18.653000</td>\n",
              "      <td>-76.349750</td>\n",
              "      <td>14.522500</td>\n",
              "      <td>5.600000</td>\n",
              "      <td>0.000000</td>\n",
              "    </tr>\n",
              "    <tr>\n",
              "      <th>50%</th>\n",
              "      <td>-3.568500</td>\n",
              "      <td>103.982000</td>\n",
              "      <td>33.000000</td>\n",
              "      <td>5.700000</td>\n",
              "      <td>0.000000</td>\n",
              "    </tr>\n",
              "    <tr>\n",
              "      <th>75%</th>\n",
              "      <td>26.190750</td>\n",
              "      <td>145.026250</td>\n",
              "      <td>54.000000</td>\n",
              "      <td>6.000000</td>\n",
              "      <td>1.000000</td>\n",
              "    </tr>\n",
              "    <tr>\n",
              "      <th>max</th>\n",
              "      <td>86.005000</td>\n",
              "      <td>179.998000</td>\n",
              "      <td>700.000000</td>\n",
              "      <td>9.100000</td>\n",
              "      <td>1.000000</td>\n",
              "    </tr>\n",
              "  </tbody>\n",
              "</table>\n",
              "</div>\n",
              "      <button class=\"colab-df-convert\" onclick=\"convertToInteractive('df-752de5d0-b2b5-4021-8a0f-927cc739f47a')\"\n",
              "              title=\"Convert this dataframe to an interactive table.\"\n",
              "              style=\"display:none;\">\n",
              "        \n",
              "  <svg xmlns=\"http://www.w3.org/2000/svg\" height=\"24px\"viewBox=\"0 0 24 24\"\n",
              "       width=\"24px\">\n",
              "    <path d=\"M0 0h24v24H0V0z\" fill=\"none\"/>\n",
              "    <path d=\"M18.56 5.44l.94 2.06.94-2.06 2.06-.94-2.06-.94-.94-2.06-.94 2.06-2.06.94zm-11 1L8.5 8.5l.94-2.06 2.06-.94-2.06-.94L8.5 2.5l-.94 2.06-2.06.94zm10 10l.94 2.06.94-2.06 2.06-.94-2.06-.94-.94-2.06-.94 2.06-2.06.94z\"/><path d=\"M17.41 7.96l-1.37-1.37c-.4-.4-.92-.59-1.43-.59-.52 0-1.04.2-1.43.59L10.3 9.45l-7.72 7.72c-.78.78-.78 2.05 0 2.83L4 21.41c.39.39.9.59 1.41.59.51 0 1.02-.2 1.41-.59l7.78-7.78 2.81-2.81c.8-.78.8-2.07 0-2.86zM5.41 20L4 18.59l7.72-7.72 1.47 1.35L5.41 20z\"/>\n",
              "  </svg>\n",
              "      </button>\n",
              "      \n",
              "  <style>\n",
              "    .colab-df-container {\n",
              "      display:flex;\n",
              "      flex-wrap:wrap;\n",
              "      gap: 12px;\n",
              "    }\n",
              "\n",
              "    .colab-df-convert {\n",
              "      background-color: #E8F0FE;\n",
              "      border: none;\n",
              "      border-radius: 50%;\n",
              "      cursor: pointer;\n",
              "      display: none;\n",
              "      fill: #1967D2;\n",
              "      height: 32px;\n",
              "      padding: 0 0 0 0;\n",
              "      width: 32px;\n",
              "    }\n",
              "\n",
              "    .colab-df-convert:hover {\n",
              "      background-color: #E2EBFA;\n",
              "      box-shadow: 0px 1px 2px rgba(60, 64, 67, 0.3), 0px 1px 3px 1px rgba(60, 64, 67, 0.15);\n",
              "      fill: #174EA6;\n",
              "    }\n",
              "\n",
              "    [theme=dark] .colab-df-convert {\n",
              "      background-color: #3B4455;\n",
              "      fill: #D2E3FC;\n",
              "    }\n",
              "\n",
              "    [theme=dark] .colab-df-convert:hover {\n",
              "      background-color: #434B5C;\n",
              "      box-shadow: 0px 1px 3px 1px rgba(0, 0, 0, 0.15);\n",
              "      filter: drop-shadow(0px 1px 2px rgba(0, 0, 0, 0.3));\n",
              "      fill: #FFFFFF;\n",
              "    }\n",
              "  </style>\n",
              "\n",
              "      <script>\n",
              "        const buttonEl =\n",
              "          document.querySelector('#df-752de5d0-b2b5-4021-8a0f-927cc739f47a button.colab-df-convert');\n",
              "        buttonEl.style.display =\n",
              "          google.colab.kernel.accessAllowed ? 'block' : 'none';\n",
              "\n",
              "        async function convertToInteractive(key) {\n",
              "          const element = document.querySelector('#df-752de5d0-b2b5-4021-8a0f-927cc739f47a');\n",
              "          const dataTable =\n",
              "            await google.colab.kernel.invokeFunction('convertToInteractive',\n",
              "                                                     [key], {});\n",
              "          if (!dataTable) return;\n",
              "\n",
              "          const docLinkHtml = 'Like what you see? Visit the ' +\n",
              "            '<a target=\"_blank\" href=https://colab.research.google.com/notebooks/data_table.ipynb>data table notebook</a>'\n",
              "            + ' to learn more about interactive tables.';\n",
              "          element.innerHTML = '';\n",
              "          dataTable['output_type'] = 'display_data';\n",
              "          await google.colab.output.renderOutput(dataTable, element);\n",
              "          const docLink = document.createElement('div');\n",
              "          docLink.innerHTML = docLinkHtml;\n",
              "          element.appendChild(docLink);\n",
              "        }\n",
              "      </script>\n",
              "    </div>\n",
              "  </div>\n",
              "  "
            ]
          },
          "metadata": {},
          "execution_count": 51
        }
      ]
    },
    {
      "cell_type": "code",
      "source": [
        "print(f\"Porcentaje de Sismos con Replicas con magnitud sobre 5.5: {100*df[df['Replicas'] !=0]['Date'].count()/df.shape[0]}%\")"
      ],
      "metadata": {
        "colab": {
          "base_uri": "https://localhost:8080/"
        },
        "id": "t142uGrWK8CS",
        "outputId": "baa48af7-b577-4d2c-ca93-4ecf64341199"
      },
      "execution_count": 52,
      "outputs": [
        {
          "output_type": "stream",
          "name": "stdout",
          "text": [
            "Porcentaje de Sismos con Replicas con magnitud sobre 5.5: 27.477362036562447%\n"
          ]
        }
      ]
    },
    {
      "cell_type": "code",
      "source": [
        "fig = plt.figure(figsize = (13,4))\n",
        "ax1 = fig.add_subplot(1,2,1)\n",
        "ax1.plot(df['Longitude'], df['Latitude'], \"b.\")\n",
        "\n",
        "ax2 = fig.add_subplot(1,2,2)\n",
        "ax2.plot(df['Depth'], \"b.\")\n",
        "\n",
        "ax2.set_ylim(max(df['Depth']), min(df['Depth']-50))\n",
        "\n",
        "plt.show()"
      ],
      "metadata": {
        "colab": {
          "base_uri": "https://localhost:8080/",
          "height": 265
        },
        "id": "ToNwJP2PSJmr",
        "outputId": "a8f488f4-ce8a-4d36-f02b-a805b74f3075"
      },
      "execution_count": 53,
      "outputs": [
        {
          "output_type": "display_data",
          "data": {
            "text/plain": [
              "<Figure size 936x288 with 2 Axes>"
            ],
            "image/png": "[encoded data removed]"
          },
          "metadata": {
            "needs_background": "light"
          }
        }
      ]
    },
    {
      "cell_type": "code",
      "source": [
        "from sklearn.model_selection import train_test_split\n",
        "\n",
        "from sklearn.pipeline import make_pipeline\n",
        "from sklearn import set_config\n",
        "set_config(display='diagram') "
      ],
      "metadata": {
        "id": "why1xwcqDQ73"
      },
      "execution_count": 54,
      "outputs": []
    },
    {
      "cell_type": "code",
      "source": [
        "y = df['Replicas']\n",
        "X = df.drop(['Replicas', 'Date', 'Time', 'DateTime'], axis = 1)\n",
        "\n",
        "X_train, X_test, y_train, y_test = train_test_split(X, y, test_size=0.2, random_state=42)\n",
        "\n",
        "# Al imputar los datos, a estos ya se le habia separado la columna Outcome, que se \n",
        "# guardo en la variable 'y'. "
      ],
      "metadata": {
        "id": "QnregF1jDTbV"
      },
      "execution_count": 68,
      "outputs": []
    },
    {
      "cell_type": "code",
      "source": [
        "from sklearn.preprocessing import StandardScaler\n",
        "scaler = StandardScaler()"
      ],
      "metadata": {
        "id": "Kz9vwk6kDnXw"
      },
      "execution_count": 65,
      "outputs": []
    },
    {
      "cell_type": "code",
      "source": [
        "from sklearn.ensemble import RandomForestClassifier, BaggingClassifier\n",
        "from sklearn.tree import DecisionTreeClassifier\n",
        "from sklearn.linear_model import LogisticRegression\n",
        "\n",
        "from sklearn.metrics import classification_report\n",
        "from sklearn.metrics import confusion_matrix, ConfusionMatrixDisplay"
      ],
      "metadata": {
        "id": "nzdRsFfeC7cB"
      },
      "execution_count": 57,
      "outputs": []
    },
    {
      "cell_type": "markdown",
      "source": [
        "**Random Forest**"
      ],
      "metadata": {
        "id": "6ZpSKJRaDwk9"
      }
    },
    {
      "cell_type": "code",
      "source": [
        "for i in range(50, 251, 50):\n",
        "  rndf_clf = RandomForestClassifier(n_estimators=i, random_state = 42)\n",
        "\n",
        "  rndf_pipeline = make_pipeline(scaler, rndf_clf)\n",
        "  rndf_pipeline.fit(X_train, y_train)\n",
        "\n",
        "  print(f\"Score train Random Forest con {i} estimadores: {rndf_pipeline.score(X_train, y_train)*100}%\")\n",
        "  print(f\"Score test Random Forest con {i} estimadores: {rndf_pipeline.score(X_test, y_test)*100}%\")\n",
        "  print(\"\")"
      ],
      "metadata": {
        "colab": {
          "base_uri": "https://localhost:8080/"
        },
        "id": "dN-ZEc5fDK8c",
        "outputId": "9c5c8a92-d38f-4d48-bcd6-2334ec4363b7"
      },
      "execution_count": 70,
      "outputs": [
        {
          "output_type": "stream",
          "name": "stdout",
          "text": [
            "Score train Random Forest con 50 estimadores: 99.92524961289978%\n",
            "Score test Random Forest con 50 estimadores: 75.29361520392911%\n",
            "\n",
            "Score train Random Forest con 100 estimadores: 99.98398205990709%\n",
            "Score test Random Forest con 100 estimadores: 75.33632286995515%\n",
            "\n",
            "Score train Random Forest con 150 estimadores: 99.9946606866357%\n",
            "Score test Random Forest con 150 estimadores: 75.10143070681188%\n",
            "\n",
            "Score train Random Forest con 200 estimadores: 99.9946606866357%\n",
            "Score test Random Forest con 200 estimadores: 75.16549220585095%\n",
            "\n",
            "Score train Random Forest con 250 estimadores: 99.9946606866357%\n",
            "Score test Random Forest con 250 estimadores: 75.42173820200726%\n",
            "\n"
          ]
        }
      ]
    },
    {
      "cell_type": "code",
      "source": [
        "rndf_clf = RandomForestClassifier(n_estimators=250, random_state = 42)\n",
        "\n",
        "rndf_pipeline = make_pipeline(scaler, rndf_clf)\n",
        "rndf_pipeline.fit(X_train, y_train)\n",
        "\n",
        "rndf_pre = rndf_pipeline.predict(X_test)\n",
        "print(classification_report(y_test, rndf_pre))\n",
        "\n",
        "cm = confusion_matrix(y_test, rndf_pre, labels=rndf_pipeline.classes_, normalize= 'true')\n",
        "disp = ConfusionMatrixDisplay(confusion_matrix=cm,\n",
        "                              display_labels=rndf_pipeline.classes_)\n",
        "disp.plot()\n",
        "plt.show()"
      ],
      "metadata": {
        "colab": {
          "base_uri": "https://localhost:8080/",
          "height": 435
        },
        "id": "UjO8j67vDMya",
        "outputId": "f12d196c-3464-4bc7-cf89-6c490b12b55e"
      },
      "execution_count": 71,
      "outputs": [
        {
          "output_type": "stream",
          "name": "stdout",
          "text": [
            "              precision    recall  f1-score   support\n",
            "\n",
            "           0       0.80      0.88      0.84      3420\n",
            "           1       0.56      0.41      0.47      1263\n",
            "\n",
            "    accuracy                           0.75      4683\n",
            "   macro avg       0.68      0.65      0.66      4683\n",
            "weighted avg       0.74      0.75      0.74      4683\n",
            "\n"
          ]
        },
        {
          "output_type": "display_data",
          "data": {
            "text/plain": [
              "<Figure size 432x288 with 2 Axes>"
            ],
            "image/png": "[encoded data removed]"
          },
          "metadata": {
            "needs_background": "light"
          }
        }
      ]
    },
    {
      "cell_type": "markdown",
      "source": [
        "**Bagging Classifier**"
      ],
      "metadata": {
        "id": "qh4xR10uGFot"
      }
    },
    {
      "cell_type": "code",
      "source": [
        "for i in range(40, 121, 40):\n",
        "  for j in range(50, 151, 50): \n",
        "    bag_clf = BaggingClassifier(\n",
        "        DecisionTreeClassifier(), n_estimators = j,\n",
        "        max_samples = i, bootstrap = True, #Si se quiere hacer pasting, esto es False\n",
        "        random_state = 42)\n",
        "\n",
        "    bag_pipeline = make_pipeline(scaler, bag_clf)\n",
        "    bag_pipeline.fit(X_train, y_train)\n",
        "\n",
        "    print(f\"Score train Bagging Classifier con max_samples = {i} y n_estimators = {j}: {bag_pipeline.score(X_train, y_train)*100}%\")\n",
        "    print(f\"Score test Bagging Classifier con max_samples = {i} y n_estimators = {j}: {bag_pipeline.score(X_test, y_test)*100}%\")\n",
        "    print(\"\")"
      ],
      "metadata": {
        "colab": {
          "base_uri": "https://localhost:8080/"
        },
        "id": "tE2_we9yGHMm",
        "outputId": "8d87a758-0d25-4998-b3ce-7f25365efb8c"
      },
      "execution_count": 72,
      "outputs": [
        {
          "output_type": "stream",
          "name": "stdout",
          "text": [
            "Score train Bagging Classifier con max_samples = 40 y n_estimators = 50: 73.63447060707993%\n",
            "Score test Bagging Classifier con max_samples = 40 y n_estimators = 50: 74.58893871449925%\n",
            "\n",
            "Score train Bagging Classifier con max_samples = 40 y n_estimators = 100: 73.8747397084735%\n",
            "Score test Bagging Classifier con max_samples = 40 y n_estimators = 100: 74.63164638052531%\n",
            "\n",
            "Score train Bagging Classifier con max_samples = 40 y n_estimators = 150: 73.82134657483049%\n",
            "Score test Bagging Classifier con max_samples = 40 y n_estimators = 150: 74.48216954943412%\n",
            "\n",
            "Score train Bagging Classifier con max_samples = 80 y n_estimators = 50: 74.07763361631694%\n",
            "Score test Bagging Classifier con max_samples = 80 y n_estimators = 50: 74.26863121930386%\n",
            "\n",
            "Score train Bagging Classifier con max_samples = 80 y n_estimators = 100: 74.40333173153932%\n",
            "Score test Bagging Classifier con max_samples = 80 y n_estimators = 100: 75.29361520392911%\n",
            "\n",
            "Score train Bagging Classifier con max_samples = 80 y n_estimators = 150: 74.37129585135351%\n",
            "Score test Bagging Classifier con max_samples = 80 y n_estimators = 150: 74.65300021353833%\n",
            "\n",
            "Score train Bagging Classifier con max_samples = 120 y n_estimators = 50: 74.41401035826793%\n",
            "Score test Bagging Classifier con max_samples = 120 y n_estimators = 50: 74.46081571642111%\n",
            "\n",
            "Score train Bagging Classifier con max_samples = 120 y n_estimators = 100: 74.48342143200385%\n",
            "Score test Bagging Classifier con max_samples = 120 y n_estimators = 100: 74.84518471065556%\n",
            "\n",
            "Score train Bagging Classifier con max_samples = 120 y n_estimators = 150: 74.59020769928986%\n",
            "Score test Bagging Classifier con max_samples = 120 y n_estimators = 150: 74.93060004270767%\n",
            "\n"
          ]
        }
      ]
    },
    {
      "cell_type": "code",
      "source": [
        "bag_clf = BaggingClassifier(\n",
        "DecisionTreeClassifier(), n_estimators = 100,\n",
        "        max_samples = 80, bootstrap = True, #Si se quiere hacer pasting, esto es False\n",
        "        random_state = 42)\n",
        "\n",
        "bag_pipeline = make_pipeline(scaler, bag_clf)\n",
        "bag_pipeline.fit(X_train, y_train)\n",
        "\n",
        "bag_pre = bag_pipeline.predict(X_test)\n",
        "print(classification_report(y_test, bag_pre))\n",
        "\n",
        "cm = confusion_matrix(y_test, bag_pre, labels=bag_pipeline.classes_, normalize= 'true')\n",
        "disp = ConfusionMatrixDisplay(confusion_matrix=cm,\n",
        "                              display_labels=bag_pipeline.classes_)\n",
        "disp.plot()\n",
        "plt.show()"
      ],
      "metadata": {
        "colab": {
          "base_uri": "https://localhost:8080/",
          "height": 435
        },
        "id": "tOu8EXDfGNON",
        "outputId": "4b9742e1-dc8f-46c9-c244-2f7d1828fe8a"
      },
      "execution_count": 73,
      "outputs": [
        {
          "output_type": "stream",
          "name": "stdout",
          "text": [
            "              precision    recall  f1-score   support\n",
            "\n",
            "           0       0.76      0.96      0.85      3420\n",
            "           1       0.65      0.19      0.29      1263\n",
            "\n",
            "    accuracy                           0.75      4683\n",
            "   macro avg       0.70      0.57      0.57      4683\n",
            "weighted avg       0.73      0.75      0.70      4683\n",
            "\n"
          ]
        },
        {
          "output_type": "display_data",
          "data": {
            "text/plain": [
              "<Figure size 432x288 with 2 Axes>"
            ],
            "image/png": "[encoded data removed]"
          },
          "metadata": {
            "needs_background": "light"
          }
        }
      ]
    },
    {
      "cell_type": "markdown",
      "source": [
        "**Logistic Regression**"
      ],
      "metadata": {
        "id": "12ap_xjmGZVR"
      }
    },
    {
      "cell_type": "code",
      "source": [
        "log_reg = LogisticRegression(solver='liblinear',\n",
        "                            multi_class='ovr')\n",
        "\n",
        "log_pipeline = make_pipeline(scaler, log_reg)\n",
        "log_pipeline.fit(X_train, y_train)\n",
        "\n",
        "print(f\"Score train Logistic Regression: {log_pipeline.score(X_train, y_train)*100}%\")\n",
        "print(f\"Score test Logistic Regression: {log_pipeline.score(X_test, y_test)*100}%\")\n",
        "\n",
        "log_pre = log_pipeline.predict(X_test)\n",
        "print(classification_report(y_test, log_pre))\n",
        "\n",
        "cm = confusion_matrix(y_test, log_pre, labels=log_pipeline.classes_, normalize= 'true')\n",
        "disp = ConfusionMatrixDisplay(confusion_matrix=cm,\n",
        "                              display_labels=log_pipeline.classes_)\n",
        "disp.plot()\n",
        "plt.show()"
      ],
      "metadata": {
        "colab": {
          "base_uri": "https://localhost:8080/",
          "height": 470
        },
        "id": "l1e4ooeQGYU_",
        "outputId": "77d05c86-62f7-46ae-87c4-d1ebd17ffdfc"
      },
      "execution_count": 74,
      "outputs": [
        {
          "output_type": "stream",
          "name": "stdout",
          "text": [
            "Score train Logistic Regression: 73.56505953334401%\n",
            "Score test Logistic Regression: 73.99103139013454%\n",
            "              precision    recall  f1-score   support\n",
            "\n",
            "           0       0.74      0.99      0.85      3420\n",
            "           1       0.66      0.07      0.13      1263\n",
            "\n",
            "    accuracy                           0.74      4683\n",
            "   macro avg       0.70      0.53      0.49      4683\n",
            "weighted avg       0.72      0.74      0.65      4683\n",
            "\n"
          ]
        },
        {
          "output_type": "display_data",
          "data": {
            "text/plain": [
              "<Figure size 432x288 with 2 Axes>"
            ],
            "image/png": "[encoded data removed]"
          },
          "metadata": {
            "needs_background": "light"
          }
        }
      ]
    },
    {
      "cell_type": "markdown",
      "source": [
        "**Red Neuronal Sencilla**"
      ],
      "metadata": {
        "id": "MQGXPjriGyln"
      }
    },
    {
      "cell_type": "code",
      "source": [
        "scaler = StandardScaler()\n",
        "\n",
        "X = pd.DataFrame(scaler.fit_transform(df.drop(['Replicas', 'Date', 'Time', 'DateTime'], axis = 1)))"
      ],
      "metadata": {
        "id": "uIQZvRwfIOvE"
      },
      "execution_count": 88,
      "outputs": []
    },
    {
      "cell_type": "code",
      "source": [
        "X_train, X_test, y_train, y_test = train_test_split(X, y, test_size=0.2, random_state=42)"
      ],
      "metadata": {
        "id": "lrZQre3_I8K8"
      },
      "execution_count": 89,
      "outputs": []
    },
    {
      "cell_type": "code",
      "source": [
        "import tensorflow as tf"
      ],
      "metadata": {
        "id": "8RYNrFJ5GnTD"
      },
      "execution_count": 90,
      "outputs": []
    },
    {
      "cell_type": "code",
      "source": [
        "# Armado de nuestra red neuronal\n",
        "model = tf.keras.models.Sequential() # Modelo secuencial\n",
        "model.add(tf.keras.layers.InputLayer(input_shape=(4,))) # Capa Input\n",
        "model.add(tf.keras.layers.Dense(300, activation='relu')) # Primera capa oculta, salida 300\n",
        "model.add(tf.keras.layers.Dense(100, activation='relu')) # Segunda capa oculta, salida 100\n",
        "model.add(tf.keras.layers.Dense(2, activation='softmax')) # Capa de salida, salida 10 (número de clases)\n"
      ],
      "metadata": {
        "id": "u1i4iKHwG5wj"
      },
      "execution_count": 91,
      "outputs": []
    },
    {
      "cell_type": "code",
      "source": [
        "model.summary()"
      ],
      "metadata": {
        "colab": {
          "base_uri": "https://localhost:8080/"
        },
        "id": "0fHCXlNdHA4m",
        "outputId": "70cd1d96-ac81-4651-d394-9dce1ef6d675"
      },
      "execution_count": 92,
      "outputs": [
        {
          "output_type": "stream",
          "name": "stdout",
          "text": [
            "Model: \"sequential_4\"\n",
            "_________________________________________________________________\n",
            " Layer (type)                Output Shape              Param #   \n",
            "=================================================================\n",
            " dense_9 (Dense)             (None, 300)               1500      \n",
            "                                                                 \n",
            " dense_10 (Dense)            (None, 100)               30100     \n",
            "                                                                 \n",
            " dense_11 (Dense)            (None, 2)                 202       \n",
            "                                                                 \n",
            "=================================================================\n",
            "Total params: 31,802\n",
            "Trainable params: 31,802\n",
            "Non-trainable params: 0\n",
            "_________________________________________________________________\n"
          ]
        }
      ]
    },
    {
      "cell_type": "code",
      "source": [
        "\n",
        "model.compile(loss=\"sparse_categorical_crossentropy\",\n",
        "              optimizer=\"sgd\",\n",
        "              metrics=[\"accuracy\"])\n"
      ],
      "metadata": {
        "id": "1tB7rP2dHvdU"
      },
      "execution_count": 93,
      "outputs": []
    },
    {
      "cell_type": "code",
      "source": [
        "X_train, X_val, y_train, y_val = train_test_split(X_train, y_train, test_size=0.2, \n",
        "                                                  stratify=y_train)"
      ],
      "metadata": {
        "id": "o6hhA_IhH2hb"
      },
      "execution_count": 94,
      "outputs": []
    },
    {
      "cell_type": "code",
      "source": [
        "history = model.fit(X_train, y_train, epochs=30, batch_size=20000,\n",
        "                    validation_data=(X_val, y_val))"
      ],
      "metadata": {
        "colab": {
          "base_uri": "https://localhost:8080/"
        },
        "id": "Tn7wu8lLHy6_",
        "outputId": "bb32ce55-026e-4ecc-ba8c-fe3ad82609e3"
      },
      "execution_count": 95,
      "outputs": [
        {
          "output_type": "stream",
          "name": "stdout",
          "text": [
            "Epoch 1/30\n",
            "1/1 [==============================] - 1s 596ms/step - loss: 0.7506 - accuracy: 0.2960 - val_loss: 0.7452 - val_accuracy: 0.3153\n",
            "Epoch 2/30\n",
            "1/1 [==============================] - 0s 128ms/step - loss: 0.7454 - accuracy: 0.3145 - val_loss: 0.7401 - val_accuracy: 0.3393\n",
            "Epoch 3/30\n",
            "1/1 [==============================] - 0s 132ms/step - loss: 0.7403 - accuracy: 0.3339 - val_loss: 0.7351 - val_accuracy: 0.3553\n",
            "Epoch 4/30\n",
            "1/1 [==============================] - 0s 129ms/step - loss: 0.7354 - accuracy: 0.3497 - val_loss: 0.7304 - val_accuracy: 0.3729\n",
            "Epoch 5/30\n",
            "1/1 [==============================] - 0s 144ms/step - loss: 0.7307 - accuracy: 0.3696 - val_loss: 0.7258 - val_accuracy: 0.3983\n",
            "Epoch 6/30\n",
            "1/1 [==============================] - 0s 142ms/step - loss: 0.7261 - accuracy: 0.3882 - val_loss: 0.7213 - val_accuracy: 0.4068\n",
            "Epoch 7/30\n",
            "1/1 [==============================] - 0s 135ms/step - loss: 0.7217 - accuracy: 0.4021 - val_loss: 0.7171 - val_accuracy: 0.4167\n",
            "Epoch 8/30\n",
            "1/1 [==============================] - 0s 140ms/step - loss: 0.7174 - accuracy: 0.4145 - val_loss: 0.7129 - val_accuracy: 0.4266\n",
            "Epoch 9/30\n",
            "1/1 [==============================] - 0s 136ms/step - loss: 0.7133 - accuracy: 0.4297 - val_loss: 0.7089 - val_accuracy: 0.4391\n",
            "Epoch 10/30\n",
            "1/1 [==============================] - 0s 147ms/step - loss: 0.7094 - accuracy: 0.4410 - val_loss: 0.7051 - val_accuracy: 0.4570\n",
            "Epoch 11/30\n",
            "1/1 [==============================] - 0s 126ms/step - loss: 0.7055 - accuracy: 0.4583 - val_loss: 0.7013 - val_accuracy: 0.4752\n",
            "Epoch 12/30\n",
            "1/1 [==============================] - 0s 132ms/step - loss: 0.7018 - accuracy: 0.4754 - val_loss: 0.6977 - val_accuracy: 0.4909\n",
            "Epoch 13/30\n",
            "1/1 [==============================] - 0s 121ms/step - loss: 0.6982 - accuracy: 0.4916 - val_loss: 0.6942 - val_accuracy: 0.5163\n",
            "Epoch 14/30\n",
            "1/1 [==============================] - 0s 120ms/step - loss: 0.6948 - accuracy: 0.5144 - val_loss: 0.6909 - val_accuracy: 0.5408\n",
            "Epoch 15/30\n",
            "1/1 [==============================] - 0s 120ms/step - loss: 0.6914 - accuracy: 0.5382 - val_loss: 0.6876 - val_accuracy: 0.5638\n",
            "Epoch 16/30\n",
            "1/1 [==============================] - 0s 114ms/step - loss: 0.6882 - accuracy: 0.5557 - val_loss: 0.6844 - val_accuracy: 0.5833\n",
            "Epoch 17/30\n",
            "1/1 [==============================] - 0s 121ms/step - loss: 0.6851 - accuracy: 0.5678 - val_loss: 0.6814 - val_accuracy: 0.5996\n",
            "Epoch 18/30\n",
            "1/1 [==============================] - 0s 119ms/step - loss: 0.6820 - accuracy: 0.5820 - val_loss: 0.6784 - val_accuracy: 0.6089\n",
            "Epoch 19/30\n",
            "1/1 [==============================] - 0s 124ms/step - loss: 0.6791 - accuracy: 0.5949 - val_loss: 0.6756 - val_accuracy: 0.6193\n",
            "Epoch 20/30\n",
            "1/1 [==============================] - 0s 151ms/step - loss: 0.6763 - accuracy: 0.6084 - val_loss: 0.6728 - val_accuracy: 0.6321\n",
            "Epoch 21/30\n",
            "1/1 [==============================] - 0s 130ms/step - loss: 0.6735 - accuracy: 0.6250 - val_loss: 0.6701 - val_accuracy: 0.6444\n",
            "Epoch 22/30\n",
            "1/1 [==============================] - 0s 131ms/step - loss: 0.6709 - accuracy: 0.6411 - val_loss: 0.6675 - val_accuracy: 0.6570\n",
            "Epoch 23/30\n",
            "1/1 [==============================] - 0s 134ms/step - loss: 0.6683 - accuracy: 0.6513 - val_loss: 0.6650 - val_accuracy: 0.6692\n",
            "Epoch 24/30\n",
            "1/1 [==============================] - 0s 144ms/step - loss: 0.6658 - accuracy: 0.6636 - val_loss: 0.6625 - val_accuracy: 0.6746\n",
            "Epoch 25/30\n",
            "1/1 [==============================] - 0s 134ms/step - loss: 0.6634 - accuracy: 0.6728 - val_loss: 0.6602 - val_accuracy: 0.6863\n",
            "Epoch 26/30\n",
            "1/1 [==============================] - 0s 127ms/step - loss: 0.6610 - accuracy: 0.6824 - val_loss: 0.6579 - val_accuracy: 0.6962\n",
            "Epoch 27/30\n",
            "1/1 [==============================] - 0s 146ms/step - loss: 0.6587 - accuracy: 0.6906 - val_loss: 0.6556 - val_accuracy: 0.7026\n",
            "Epoch 28/30\n",
            "1/1 [==============================] - 0s 132ms/step - loss: 0.6565 - accuracy: 0.6987 - val_loss: 0.6535 - val_accuracy: 0.7077\n",
            "Epoch 29/30\n",
            "1/1 [==============================] - 0s 135ms/step - loss: 0.6544 - accuracy: 0.7050 - val_loss: 0.6514 - val_accuracy: 0.7136\n",
            "Epoch 30/30\n",
            "1/1 [==============================] - 0s 140ms/step - loss: 0.6523 - accuracy: 0.7107 - val_loss: 0.6493 - val_accuracy: 0.7165\n"
          ]
        }
      ]
    },
    {
      "cell_type": "code",
      "source": [
        "\n",
        "score, acc = model.evaluate(X_test, y_test,\n",
        "                            batch_size=32)\n",
        "print(\"Score:\", score) # Función de pérdida\n",
        "print(\"Accuracy:\", acc)"
      ],
      "metadata": {
        "colab": {
          "base_uri": "https://localhost:8080/"
        },
        "id": "UCf9lgCBH9xD",
        "outputId": "74c4c9ed-d58d-4a47-8a6b-21a1936b2ad6"
      },
      "execution_count": 96,
      "outputs": [
        {
          "output_type": "stream",
          "name": "stdout",
          "text": [
            "147/147 [==============================] - 0s 1ms/step - loss: 0.6491 - accuracy: 0.7203\n",
            "Score: 0.6491472721099854\n",
            "Accuracy: 0.7202647924423218\n"
          ]
        }
      ]
    },
    {
      "cell_type": "code",
      "source": [
        "pro_pre = model.predict(X_test) \n",
        "pre=np.argmax(pro_pre ,axis=1)"
      ],
      "metadata": {
        "id": "dDGFa6juJPNF"
      },
      "execution_count": 105,
      "outputs": []
    },
    {
      "cell_type": "code",
      "source": [
        "cm = confusion_matrix(y_test, pre, normalize = 'true')\n",
        "disp = ConfusionMatrixDisplay(confusion_matrix=cm)\n",
        "disp.plot()\n",
        "plt.show()"
      ],
      "metadata": {
        "colab": {
          "base_uri": "https://localhost:8080/",
          "height": 279
        },
        "id": "1gNjMTSNJstt",
        "outputId": "bf2b7259-91eb-487e-c1fc-40ea803a7792"
      },
      "execution_count": 103,
      "outputs": [
        {
          "output_type": "display_data",
          "data": {
            "text/plain": [
              "<Figure size 432x288 with 2 Axes>"
            ],
            "image/png": "[encoded data removed]"
          },
          "metadata": {
            "needs_background": "light"
          }
        }
      ]
    },
    {
      "cell_type": "markdown",
      "source": [
        "**Resumen**\n",
        "\n",
        "Tanto la red neuronal como logistical regression predicen extremadamente pocas veces que va a ocurrir un sismo despues de que ocurrio otro. Ambos entregan una probabilidad de que ocurra. Bagging Classifiers predice correctamente 20% de los casos en que hay un sismo dentro de los rangos de otro sismo. Por otra parte, Random Forest logra acertar en 40% de los casos. "
      ],
      "metadata": {
        "id": "s8z82mZYKmo2"
      }
    }
  ]
}