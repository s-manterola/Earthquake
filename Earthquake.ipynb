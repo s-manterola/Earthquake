{
  "nbformat": 4,
  "nbformat_minor": 0,
  "metadata": {
    "colab": {
      "provenance": [],
      "authorship_tag": "ABX9TyOpK63fmlZ5sCdwBThVfvpU",
      "include_colab_link": true
    },
    "kernelspec": {
      "name": "python3",
      "display_name": "Python 3"
    },
    "language_info": {
      "name": "python"
    }
  },
  "cells": [
    {
      "cell_type": "markdown",
      "metadata": {
        "id": "view-in-github",
        "colab_type": "text"
      },
      "source": [
        "<a href=\"https://colab.research.google.com/github/s-manterola/Earthquake/blob/main/Earthquake.ipynb\" target=\"_parent\"><img src=\"https://colab.research.google.com/assets/colab-badge.svg\" alt=\"Open In Colab\"/></a>"
      ]
    },
    {
      "cell_type": "code",
      "execution_count": null,
      "metadata": {
        "colab": {
          "base_uri": "https://localhost:8080/"
        },
        "id": "zjsdtV0CI43x",
        "outputId": "9000dc18-91c4-4448-95f3-ab01926ab619"
      },
      "outputs": [
        {
          "output_type": "stream",
          "name": "stdout",
          "text": [
            "Drive already mounted at /content/drive; to attempt to forcibly remount, call drive.mount(\"/content/drive\", force_remount=True).\n"
          ]
        }
      ],
      "source": [
        "from google.colab import drive\n",
        "drive.mount('/content/drive')"
      ]
    },
    {
      "cell_type": "code",
      "source": [
        "import pandas as pd\n",
        "from numpy import datetime64\n",
        "import numpy as np\n",
        "import math\n",
        "import matplotlib.pyplot as plt"
      ],
      "metadata": {
        "id": "qtePvGQYJHoF"
      },
      "execution_count": 1,
      "outputs": []
    },
    {
      "cell_type": "code",
      "source": [
        "filename = '/content/drive/MyDrive/Colab Notebooks/Bootcamp/Earthquake/Base de datos/database.csv'\n",
        "\n",
        "df = pd.read_csv(filename)"
      ],
      "metadata": {
        "id": "UCtQ0mi5JJpx"
      },
      "execution_count": null,
      "outputs": []
    },
    {
      "cell_type": "code",
      "source": [
        "df.head()"
      ],
      "metadata": {
        "colab": {
          "base_uri": "https://localhost:8080/",
          "height": 334
        },
        "id": "tF056zrDJMD1",
        "outputId": "98e062c3-4e33-4fd5-e913-805598e033fa"
      },
      "execution_count": null,
      "outputs": [
        {
          "output_type": "execute_result",
          "data": {
            "text/plain": [
              "         Date      Time  Latitude  Longitude        Type  Depth  Depth Error  \\\n",
              "0  01/02/1965  13:44:18    19.246    145.616  Earthquake  131.6          NaN   \n",
              "1  01/04/1965  11:29:49     1.863    127.352  Earthquake   80.0          NaN   \n",
              "2  01/05/1965  18:05:58   -20.579   -173.972  Earthquake   20.0          NaN   \n",
              "3  01/08/1965  18:49:43   -59.076    -23.557  Earthquake   15.0          NaN   \n",
              "4  01/09/1965  13:32:50    11.938    126.427  Earthquake   15.0          NaN   \n",
              "\n",
              "   Depth Seismic Stations  Magnitude Magnitude Type  ...  \\\n",
              "0                     NaN        6.0             MW  ...   \n",
              "1                     NaN        5.8             MW  ...   \n",
              "2                     NaN        6.2             MW  ...   \n",
              "3                     NaN        5.8             MW  ...   \n",
              "4                     NaN        5.8             MW  ...   \n",
              "\n",
              "   Magnitude Seismic Stations  Azimuthal Gap  Horizontal Distance  \\\n",
              "0                         NaN            NaN                  NaN   \n",
              "1                         NaN            NaN                  NaN   \n",
              "2                         NaN            NaN                  NaN   \n",
              "3                         NaN            NaN                  NaN   \n",
              "4                         NaN            NaN                  NaN   \n",
              "\n",
              "   Horizontal Error  Root Mean Square            ID  Source Location Source  \\\n",
              "0               NaN               NaN  ISCGEM860706  ISCGEM          ISCGEM   \n",
              "1               NaN               NaN  ISCGEM860737  ISCGEM          ISCGEM   \n",
              "2               NaN               NaN  ISCGEM860762  ISCGEM          ISCGEM   \n",
              "3               NaN               NaN  ISCGEM860856  ISCGEM          ISCGEM   \n",
              "4               NaN               NaN  ISCGEM860890  ISCGEM          ISCGEM   \n",
              "\n",
              "  Magnitude Source     Status  \n",
              "0           ISCGEM  Automatic  \n",
              "1           ISCGEM  Automatic  \n",
              "2           ISCGEM  Automatic  \n",
              "3           ISCGEM  Automatic  \n",
              "4           ISCGEM  Automatic  \n",
              "\n",
              "[5 rows x 21 columns]"
            ],
            "text/html": [
              "\n",
              "  <div id=\"df-899a4a3c-199f-4d4a-8ee7-6d55ccd5625d\">\n",
              "    <div class=\"colab-df-container\">\n",
              "      <div>\n",
              "<style scoped>\n",
              "    .dataframe tbody tr th:only-of-type {\n",
              "        vertical-align: middle;\n",
              "    }\n",
              "\n",
              "    .dataframe tbody tr th {\n",
              "        vertical-align: top;\n",
              "    }\n",
              "\n",
              "    .dataframe thead th {\n",
              "        text-align: right;\n",
              "    }\n",
              "</style>\n",
              "<table border=\"1\" class=\"dataframe\">\n",
              "  <thead>\n",
              "    <tr style=\"text-align: right;\">\n",
              "      <th></th>\n",
              "      <th>Date</th>\n",
              "      <th>Time</th>\n",
              "      <th>Latitude</th>\n",
              "      <th>Longitude</th>\n",
              "      <th>Type</th>\n",
              "      <th>Depth</th>\n",
              "      <th>Depth Error</th>\n",
              "      <th>Depth Seismic Stations</th>\n",
              "      <th>Magnitude</th>\n",
              "      <th>Magnitude Type</th>\n",
              "      <th>...</th>\n",
              "      <th>Magnitude Seismic Stations</th>\n",
              "      <th>Azimuthal Gap</th>\n",
              "      <th>Horizontal Distance</th>\n",
              "      <th>Horizontal Error</th>\n",
              "      <th>Root Mean Square</th>\n",
              "      <th>ID</th>\n",
              "      <th>Source</th>\n",
              "      <th>Location Source</th>\n",
              "      <th>Magnitude Source</th>\n",
              "      <th>Status</th>\n",
              "    </tr>\n",
              "  </thead>\n",
              "  <tbody>\n",
              "    <tr>\n",
              "      <th>0</th>\n",
              "      <td>01/02/1965</td>\n",
              "      <td>13:44:18</td>\n",
              "      <td>19.246</td>\n",
              "      <td>145.616</td>\n",
              "      <td>Earthquake</td>\n",
              "      <td>131.6</td>\n",
              "      <td>NaN</td>\n",
              "      <td>NaN</td>\n",
              "      <td>6.0</td>\n",
              "      <td>MW</td>\n",
              "      <td>...</td>\n",
              "      <td>NaN</td>\n",
              "      <td>NaN</td>\n",
              "      <td>NaN</td>\n",
              "      <td>NaN</td>\n",
              "      <td>NaN</td>\n",
              "      <td>ISCGEM860706</td>\n",
              "      <td>ISCGEM</td>\n",
              "      <td>ISCGEM</td>\n",
              "      <td>ISCGEM</td>\n",
              "      <td>Automatic</td>\n",
              "    </tr>\n",
              "    <tr>\n",
              "      <th>1</th>\n",
              "      <td>01/04/1965</td>\n",
              "      <td>11:29:49</td>\n",
              "      <td>1.863</td>\n",
              "      <td>127.352</td>\n",
              "      <td>Earthquake</td>\n",
              "      <td>80.0</td>\n",
              "      <td>NaN</td>\n",
              "      <td>NaN</td>\n",
              "      <td>5.8</td>\n",
              "      <td>MW</td>\n",
              "      <td>...</td>\n",
              "      <td>NaN</td>\n",
              "      <td>NaN</td>\n",
              "      <td>NaN</td>\n",
              "      <td>NaN</td>\n",
              "      <td>NaN</td>\n",
              "      <td>ISCGEM860737</td>\n",
              "      <td>ISCGEM</td>\n",
              "      <td>ISCGEM</td>\n",
              "      <td>ISCGEM</td>\n",
              "      <td>Automatic</td>\n",
              "    </tr>\n",
              "    <tr>\n",
              "      <th>2</th>\n",
              "      <td>01/05/1965</td>\n",
              "      <td>18:05:58</td>\n",
              "      <td>-20.579</td>\n",
              "      <td>-173.972</td>\n",
              "      <td>Earthquake</td>\n",
              "      <td>20.0</td>\n",
              "      <td>NaN</td>\n",
              "      <td>NaN</td>\n",
              "      <td>6.2</td>\n",
              "      <td>MW</td>\n",
              "      <td>...</td>\n",
              "      <td>NaN</td>\n",
              "      <td>NaN</td>\n",
              "      <td>NaN</td>\n",
              "      <td>NaN</td>\n",
              "      <td>NaN</td>\n",
              "      <td>ISCGEM860762</td>\n",
              "      <td>ISCGEM</td>\n",
              "      <td>ISCGEM</td>\n",
              "      <td>ISCGEM</td>\n",
              "      <td>Automatic</td>\n",
              "    </tr>\n",
              "    <tr>\n",
              "      <th>3</th>\n",
              "      <td>01/08/1965</td>\n",
              "      <td>18:49:43</td>\n",
              "      <td>-59.076</td>\n",
              "      <td>-23.557</td>\n",
              "      <td>Earthquake</td>\n",
              "      <td>15.0</td>\n",
              "      <td>NaN</td>\n",
              "      <td>NaN</td>\n",
              "      <td>5.8</td>\n",
              "      <td>MW</td>\n",
              "      <td>...</td>\n",
              "      <td>NaN</td>\n",
              "      <td>NaN</td>\n",
              "      <td>NaN</td>\n",
              "      <td>NaN</td>\n",
              "      <td>NaN</td>\n",
              "      <td>ISCGEM860856</td>\n",
              "      <td>ISCGEM</td>\n",
              "      <td>ISCGEM</td>\n",
              "      <td>ISCGEM</td>\n",
              "      <td>Automatic</td>\n",
              "    </tr>\n",
              "    <tr>\n",
              "      <th>4</th>\n",
              "      <td>01/09/1965</td>\n",
              "      <td>13:32:50</td>\n",
              "      <td>11.938</td>\n",
              "      <td>126.427</td>\n",
              "      <td>Earthquake</td>\n",
              "      <td>15.0</td>\n",
              "      <td>NaN</td>\n",
              "      <td>NaN</td>\n",
              "      <td>5.8</td>\n",
              "      <td>MW</td>\n",
              "      <td>...</td>\n",
              "      <td>NaN</td>\n",
              "      <td>NaN</td>\n",
              "      <td>NaN</td>\n",
              "      <td>NaN</td>\n",
              "      <td>NaN</td>\n",
              "      <td>ISCGEM860890</td>\n",
              "      <td>ISCGEM</td>\n",
              "      <td>ISCGEM</td>\n",
              "      <td>ISCGEM</td>\n",
              "      <td>Automatic</td>\n",
              "    </tr>\n",
              "  </tbody>\n",
              "</table>\n",
              "<p>5 rows × 21 columns</p>\n",
              "</div>\n",
              "      <button class=\"colab-df-convert\" onclick=\"convertToInteractive('df-899a4a3c-199f-4d4a-8ee7-6d55ccd5625d')\"\n",
              "              title=\"Convert this dataframe to an interactive table.\"\n",
              "              style=\"display:none;\">\n",
              "        \n",
              "  <svg xmlns=\"http://www.w3.org/2000/svg\" height=\"24px\"viewBox=\"0 0 24 24\"\n",
              "       width=\"24px\">\n",
              "    <path d=\"M0 0h24v24H0V0z\" fill=\"none\"/>\n",
              "    <path d=\"M18.56 5.44l.94 2.06.94-2.06 2.06-.94-2.06-.94-.94-2.06-.94 2.06-2.06.94zm-11 1L8.5 8.5l.94-2.06 2.06-.94-2.06-.94L8.5 2.5l-.94 2.06-2.06.94zm10 10l.94 2.06.94-2.06 2.06-.94-2.06-.94-.94-2.06-.94 2.06-2.06.94z\"/><path d=\"M17.41 7.96l-1.37-1.37c-.4-.4-.92-.59-1.43-.59-.52 0-1.04.2-1.43.59L10.3 9.45l-7.72 7.72c-.78.78-.78 2.05 0 2.83L4 21.41c.39.39.9.59 1.41.59.51 0 1.02-.2 1.41-.59l7.78-7.78 2.81-2.81c.8-.78.8-2.07 0-2.86zM5.41 20L4 18.59l7.72-7.72 1.47 1.35L5.41 20z\"/>\n",
              "  </svg>\n",
              "      </button>\n",
              "      \n",
              "  <style>\n",
              "    .colab-df-container {\n",
              "      display:flex;\n",
              "      flex-wrap:wrap;\n",
              "      gap: 12px;\n",
              "    }\n",
              "\n",
              "    .colab-df-convert {\n",
              "      background-color: #E8F0FE;\n",
              "      border: none;\n",
              "      border-radius: 50%;\n",
              "      cursor: pointer;\n",
              "      display: none;\n",
              "      fill: #1967D2;\n",
              "      height: 32px;\n",
              "      padding: 0 0 0 0;\n",
              "      width: 32px;\n",
              "    }\n",
              "\n",
              "    .colab-df-convert:hover {\n",
              "      background-color: #E2EBFA;\n",
              "      box-shadow: 0px 1px 2px rgba(60, 64, 67, 0.3), 0px 1px 3px 1px rgba(60, 64, 67, 0.15);\n",
              "      fill: #174EA6;\n",
              "    }\n",
              "\n",
              "    [theme=dark] .colab-df-convert {\n",
              "      background-color: #3B4455;\n",
              "      fill: #D2E3FC;\n",
              "    }\n",
              "\n",
              "    [theme=dark] .colab-df-convert:hover {\n",
              "      background-color: #434B5C;\n",
              "      box-shadow: 0px 1px 3px 1px rgba(0, 0, 0, 0.15);\n",
              "      filter: drop-shadow(0px 1px 2px rgba(0, 0, 0, 0.3));\n",
              "      fill: #FFFFFF;\n",
              "    }\n",
              "  </style>\n",
              "\n",
              "      <script>\n",
              "        const buttonEl =\n",
              "          document.querySelector('#df-899a4a3c-199f-4d4a-8ee7-6d55ccd5625d button.colab-df-convert');\n",
              "        buttonEl.style.display =\n",
              "          google.colab.kernel.accessAllowed ? 'block' : 'none';\n",
              "\n",
              "        async function convertToInteractive(key) {\n",
              "          const element = document.querySelector('#df-899a4a3c-199f-4d4a-8ee7-6d55ccd5625d');\n",
              "          const dataTable =\n",
              "            await google.colab.kernel.invokeFunction('convertToInteractive',\n",
              "                                                     [key], {});\n",
              "          if (!dataTable) return;\n",
              "\n",
              "          const docLinkHtml = 'Like what you see? Visit the ' +\n",
              "            '<a target=\"_blank\" href=https://colab.research.google.com/notebooks/data_table.ipynb>data table notebook</a>'\n",
              "            + ' to learn more about interactive tables.';\n",
              "          element.innerHTML = '';\n",
              "          dataTable['output_type'] = 'display_data';\n",
              "          await google.colab.output.renderOutput(dataTable, element);\n",
              "          const docLink = document.createElement('div');\n",
              "          docLink.innerHTML = docLinkHtml;\n",
              "          element.appendChild(docLink);\n",
              "        }\n",
              "      </script>\n",
              "    </div>\n",
              "  </div>\n",
              "  "
            ]
          },
          "metadata": {},
          "execution_count": 164
        }
      ]
    },
    {
      "cell_type": "code",
      "source": [
        "df = df[['Date', 'Time', 'Latitude', 'Longitude', 'Depth', 'Magnitude']]\n",
        "df.head()"
      ],
      "metadata": {
        "colab": {
          "base_uri": "https://localhost:8080/",
          "height": 206
        },
        "id": "2-oxItMQJOJo",
        "outputId": "2fae9330-3682-409b-b4d5-9935ebc00470"
      },
      "execution_count": null,
      "outputs": [
        {
          "output_type": "execute_result",
          "data": {
            "text/plain": [
              "         Date      Time  Latitude  Longitude  Depth  Magnitude\n",
              "0  01/02/1965  13:44:18    19.246    145.616  131.6        6.0\n",
              "1  01/04/1965  11:29:49     1.863    127.352   80.0        5.8\n",
              "2  01/05/1965  18:05:58   -20.579   -173.972   20.0        6.2\n",
              "3  01/08/1965  18:49:43   -59.076    -23.557   15.0        5.8\n",
              "4  01/09/1965  13:32:50    11.938    126.427   15.0        5.8"
            ],
            "text/html": [
              "\n",
              "  <div id=\"df-c53b53dd-a5d5-41ed-8614-e34a5e11ec79\">\n",
              "    <div class=\"colab-df-container\">\n",
              "      <div>\n",
              "<style scoped>\n",
              "    .dataframe tbody tr th:only-of-type {\n",
              "        vertical-align: middle;\n",
              "    }\n",
              "\n",
              "    .dataframe tbody tr th {\n",
              "        vertical-align: top;\n",
              "    }\n",
              "\n",
              "    .dataframe thead th {\n",
              "        text-align: right;\n",
              "    }\n",
              "</style>\n",
              "<table border=\"1\" class=\"dataframe\">\n",
              "  <thead>\n",
              "    <tr style=\"text-align: right;\">\n",
              "      <th></th>\n",
              "      <th>Date</th>\n",
              "      <th>Time</th>\n",
              "      <th>Latitude</th>\n",
              "      <th>Longitude</th>\n",
              "      <th>Depth</th>\n",
              "      <th>Magnitude</th>\n",
              "    </tr>\n",
              "  </thead>\n",
              "  <tbody>\n",
              "    <tr>\n",
              "      <th>0</th>\n",
              "      <td>01/02/1965</td>\n",
              "      <td>13:44:18</td>\n",
              "      <td>19.246</td>\n",
              "      <td>145.616</td>\n",
              "      <td>131.6</td>\n",
              "      <td>6.0</td>\n",
              "    </tr>\n",
              "    <tr>\n",
              "      <th>1</th>\n",
              "      <td>01/04/1965</td>\n",
              "      <td>11:29:49</td>\n",
              "      <td>1.863</td>\n",
              "      <td>127.352</td>\n",
              "      <td>80.0</td>\n",
              "      <td>5.8</td>\n",
              "    </tr>\n",
              "    <tr>\n",
              "      <th>2</th>\n",
              "      <td>01/05/1965</td>\n",
              "      <td>18:05:58</td>\n",
              "      <td>-20.579</td>\n",
              "      <td>-173.972</td>\n",
              "      <td>20.0</td>\n",
              "      <td>6.2</td>\n",
              "    </tr>\n",
              "    <tr>\n",
              "      <th>3</th>\n",
              "      <td>01/08/1965</td>\n",
              "      <td>18:49:43</td>\n",
              "      <td>-59.076</td>\n",
              "      <td>-23.557</td>\n",
              "      <td>15.0</td>\n",
              "      <td>5.8</td>\n",
              "    </tr>\n",
              "    <tr>\n",
              "      <th>4</th>\n",
              "      <td>01/09/1965</td>\n",
              "      <td>13:32:50</td>\n",
              "      <td>11.938</td>\n",
              "      <td>126.427</td>\n",
              "      <td>15.0</td>\n",
              "      <td>5.8</td>\n",
              "    </tr>\n",
              "  </tbody>\n",
              "</table>\n",
              "</div>\n",
              "      <button class=\"colab-df-convert\" onclick=\"convertToInteractive('df-c53b53dd-a5d5-41ed-8614-e34a5e11ec79')\"\n",
              "              title=\"Convert this dataframe to an interactive table.\"\n",
              "              style=\"display:none;\">\n",
              "        \n",
              "  <svg xmlns=\"http://www.w3.org/2000/svg\" height=\"24px\"viewBox=\"0 0 24 24\"\n",
              "       width=\"24px\">\n",
              "    <path d=\"M0 0h24v24H0V0z\" fill=\"none\"/>\n",
              "    <path d=\"M18.56 5.44l.94 2.06.94-2.06 2.06-.94-2.06-.94-.94-2.06-.94 2.06-2.06.94zm-11 1L8.5 8.5l.94-2.06 2.06-.94-2.06-.94L8.5 2.5l-.94 2.06-2.06.94zm10 10l.94 2.06.94-2.06 2.06-.94-2.06-.94-.94-2.06-.94 2.06-2.06.94z\"/><path d=\"M17.41 7.96l-1.37-1.37c-.4-.4-.92-.59-1.43-.59-.52 0-1.04.2-1.43.59L10.3 9.45l-7.72 7.72c-.78.78-.78 2.05 0 2.83L4 21.41c.39.39.9.59 1.41.59.51 0 1.02-.2 1.41-.59l7.78-7.78 2.81-2.81c.8-.78.8-2.07 0-2.86zM5.41 20L4 18.59l7.72-7.72 1.47 1.35L5.41 20z\"/>\n",
              "  </svg>\n",
              "      </button>\n",
              "      \n",
              "  <style>\n",
              "    .colab-df-container {\n",
              "      display:flex;\n",
              "      flex-wrap:wrap;\n",
              "      gap: 12px;\n",
              "    }\n",
              "\n",
              "    .colab-df-convert {\n",
              "      background-color: #E8F0FE;\n",
              "      border: none;\n",
              "      border-radius: 50%;\n",
              "      cursor: pointer;\n",
              "      display: none;\n",
              "      fill: #1967D2;\n",
              "      height: 32px;\n",
              "      padding: 0 0 0 0;\n",
              "      width: 32px;\n",
              "    }\n",
              "\n",
              "    .colab-df-convert:hover {\n",
              "      background-color: #E2EBFA;\n",
              "      box-shadow: 0px 1px 2px rgba(60, 64, 67, 0.3), 0px 1px 3px 1px rgba(60, 64, 67, 0.15);\n",
              "      fill: #174EA6;\n",
              "    }\n",
              "\n",
              "    [theme=dark] .colab-df-convert {\n",
              "      background-color: #3B4455;\n",
              "      fill: #D2E3FC;\n",
              "    }\n",
              "\n",
              "    [theme=dark] .colab-df-convert:hover {\n",
              "      background-color: #434B5C;\n",
              "      box-shadow: 0px 1px 3px 1px rgba(0, 0, 0, 0.15);\n",
              "      filter: drop-shadow(0px 1px 2px rgba(0, 0, 0, 0.3));\n",
              "      fill: #FFFFFF;\n",
              "    }\n",
              "  </style>\n",
              "\n",
              "      <script>\n",
              "        const buttonEl =\n",
              "          document.querySelector('#df-c53b53dd-a5d5-41ed-8614-e34a5e11ec79 button.colab-df-convert');\n",
              "        buttonEl.style.display =\n",
              "          google.colab.kernel.accessAllowed ? 'block' : 'none';\n",
              "\n",
              "        async function convertToInteractive(key) {\n",
              "          const element = document.querySelector('#df-c53b53dd-a5d5-41ed-8614-e34a5e11ec79');\n",
              "          const dataTable =\n",
              "            await google.colab.kernel.invokeFunction('convertToInteractive',\n",
              "                                                     [key], {});\n",
              "          if (!dataTable) return;\n",
              "\n",
              "          const docLinkHtml = 'Like what you see? Visit the ' +\n",
              "            '<a target=\"_blank\" href=https://colab.research.google.com/notebooks/data_table.ipynb>data table notebook</a>'\n",
              "            + ' to learn more about interactive tables.';\n",
              "          element.innerHTML = '';\n",
              "          dataTable['output_type'] = 'display_data';\n",
              "          await google.colab.output.renderOutput(dataTable, element);\n",
              "          const docLink = document.createElement('div');\n",
              "          docLink.innerHTML = docLinkHtml;\n",
              "          element.appendChild(docLink);\n",
              "        }\n",
              "      </script>\n",
              "    </div>\n",
              "  </div>\n",
              "  "
            ]
          },
          "metadata": {},
          "execution_count": 165
        }
      ]
    },
    {
      "cell_type": "code",
      "source": [
        "df.info()"
      ],
      "metadata": {
        "colab": {
          "base_uri": "https://localhost:8080/"
        },
        "id": "gulYGKaIJRr1",
        "outputId": "a57dd0f3-ab01-41af-8b79-07709040de9d"
      },
      "execution_count": null,
      "outputs": [
        {
          "output_type": "stream",
          "name": "stdout",
          "text": [
            "<class 'pandas.core.frame.DataFrame'>\n",
            "RangeIndex: 23412 entries, 0 to 23411\n",
            "Data columns (total 6 columns):\n",
            " #   Column     Non-Null Count  Dtype  \n",
            "---  ------     --------------  -----  \n",
            " 0   Date       23412 non-null  object \n",
            " 1   Time       23412 non-null  object \n",
            " 2   Latitude   23412 non-null  float64\n",
            " 3   Longitude  23412 non-null  float64\n",
            " 4   Depth      23412 non-null  float64\n",
            " 5   Magnitude  23412 non-null  float64\n",
            "dtypes: float64(4), object(2)\n",
            "memory usage: 1.1+ MB\n"
          ]
        }
      ]
    },
    {
      "cell_type": "code",
      "source": [
        "while(True):\n",
        "  try:\n",
        "    pd.to_datetime(df['Date'], format='%m/%d/%Y')\n",
        "  except ValueError as err:\n",
        "    err = str(err)\n",
        "    er = err[err.index(\"'\")+1:err.index(\"'\",err.index(\"'\")+1)]\n",
        "\n",
        "    corD = er[er.index('-')+1: er.index('-')+3] + \"/\" + er[er.index('-')+4: er.index('-')+6] + \"/\" + er[0:er.index('-')]\n",
        "    corT = er[er.index('T')+1: er.index('Z')-4]\n",
        "\n",
        "    df['Date'].replace(er, corD, inplace = True)\n",
        "    df['Time'].replace(er, corT, inplace = True)\n",
        "  else:\n",
        "    break\n",
        "\n",
        "df['DateTime'] = pd.to_datetime(df['Date'] + ','+ df['Time'],format='%m/%d/%Y,%H:%M:%S')"
      ],
      "metadata": {
        "colab": {
          "base_uri": "https://localhost:8080/"
        },
        "id": "-IM_A4NpJUTe",
        "outputId": "5865f0a6-b52b-4531-e30d-7ae4c3382a0e"
      },
      "execution_count": null,
      "outputs": [
        {
          "output_type": "stream",
          "name": "stderr",
          "text": [
            "/usr/local/lib/python3.7/dist-packages/pandas/core/generic.py:6619: SettingWithCopyWarning: \n",
            "A value is trying to be set on a copy of a slice from a DataFrame\n",
            "\n",
            "See the caveats in the documentation: https://pandas.pydata.org/pandas-docs/stable/user_guide/indexing.html#returning-a-view-versus-a-copy\n",
            "  return self._update_inplace(result)\n"
          ]
        }
      ]
    },
    {
      "cell_type": "code",
      "source": [
        "df.info()"
      ],
      "metadata": {
        "colab": {
          "base_uri": "https://localhost:8080/"
        },
        "id": "HSuTxiqkJXJh",
        "outputId": "c375a42d-bf38-4c88-ae86-d9ec00ff8921"
      },
      "execution_count": null,
      "outputs": [
        {
          "output_type": "stream",
          "name": "stdout",
          "text": [
            "<class 'pandas.core.frame.DataFrame'>\n",
            "RangeIndex: 23412 entries, 0 to 23411\n",
            "Data columns (total 7 columns):\n",
            " #   Column     Non-Null Count  Dtype         \n",
            "---  ------     --------------  -----         \n",
            " 0   Date       23412 non-null  object        \n",
            " 1   Time       23412 non-null  object        \n",
            " 2   Latitude   23412 non-null  float64       \n",
            " 3   Longitude  23412 non-null  float64       \n",
            " 4   Depth      23412 non-null  float64       \n",
            " 5   Magnitude  23412 non-null  float64       \n",
            " 6   DateTime   23412 non-null  datetime64[ns]\n",
            "dtypes: datetime64[ns](1), float64(4), object(2)\n",
            "memory usage: 1.3+ MB\n"
          ]
        }
      ]
    },
    {
      "cell_type": "code",
      "source": [
        "df.head()"
      ],
      "metadata": {
        "colab": {
          "base_uri": "https://localhost:8080/",
          "height": 206
        },
        "id": "sryXhdtAJZZN",
        "outputId": "6f28f142-e49f-4b0d-a9bf-4611b2c79b2e"
      },
      "execution_count": null,
      "outputs": [
        {
          "output_type": "execute_result",
          "data": {
            "text/plain": [
              "         Date      Time  Latitude  Longitude  Depth  Magnitude  \\\n",
              "0  01/02/1965  13:44:18    19.246    145.616  131.6        6.0   \n",
              "1  01/04/1965  11:29:49     1.863    127.352   80.0        5.8   \n",
              "2  01/05/1965  18:05:58   -20.579   -173.972   20.0        6.2   \n",
              "3  01/08/1965  18:49:43   -59.076    -23.557   15.0        5.8   \n",
              "4  01/09/1965  13:32:50    11.938    126.427   15.0        5.8   \n",
              "\n",
              "             DateTime  \n",
              "0 1965-01-02 13:44:18  \n",
              "1 1965-01-04 11:29:49  \n",
              "2 1965-01-05 18:05:58  \n",
              "3 1965-01-08 18:49:43  \n",
              "4 1965-01-09 13:32:50  "
            ],
            "text/html": [
              "\n",
              "  <div id=\"df-9b5569d9-ea07-4a10-8843-088856f4ba00\">\n",
              "    <div class=\"colab-df-container\">\n",
              "      <div>\n",
              "<style scoped>\n",
              "    .dataframe tbody tr th:only-of-type {\n",
              "        vertical-align: middle;\n",
              "    }\n",
              "\n",
              "    .dataframe tbody tr th {\n",
              "        vertical-align: top;\n",
              "    }\n",
              "\n",
              "    .dataframe thead th {\n",
              "        text-align: right;\n",
              "    }\n",
              "</style>\n",
              "<table border=\"1\" class=\"dataframe\">\n",
              "  <thead>\n",
              "    <tr style=\"text-align: right;\">\n",
              "      <th></th>\n",
              "      <th>Date</th>\n",
              "      <th>Time</th>\n",
              "      <th>Latitude</th>\n",
              "      <th>Longitude</th>\n",
              "      <th>Depth</th>\n",
              "      <th>Magnitude</th>\n",
              "      <th>DateTime</th>\n",
              "    </tr>\n",
              "  </thead>\n",
              "  <tbody>\n",
              "    <tr>\n",
              "      <th>0</th>\n",
              "      <td>01/02/1965</td>\n",
              "      <td>13:44:18</td>\n",
              "      <td>19.246</td>\n",
              "      <td>145.616</td>\n",
              "      <td>131.6</td>\n",
              "      <td>6.0</td>\n",
              "      <td>1965-01-02 13:44:18</td>\n",
              "    </tr>\n",
              "    <tr>\n",
              "      <th>1</th>\n",
              "      <td>01/04/1965</td>\n",
              "      <td>11:29:49</td>\n",
              "      <td>1.863</td>\n",
              "      <td>127.352</td>\n",
              "      <td>80.0</td>\n",
              "      <td>5.8</td>\n",
              "      <td>1965-01-04 11:29:49</td>\n",
              "    </tr>\n",
              "    <tr>\n",
              "      <th>2</th>\n",
              "      <td>01/05/1965</td>\n",
              "      <td>18:05:58</td>\n",
              "      <td>-20.579</td>\n",
              "      <td>-173.972</td>\n",
              "      <td>20.0</td>\n",
              "      <td>6.2</td>\n",
              "      <td>1965-01-05 18:05:58</td>\n",
              "    </tr>\n",
              "    <tr>\n",
              "      <th>3</th>\n",
              "      <td>01/08/1965</td>\n",
              "      <td>18:49:43</td>\n",
              "      <td>-59.076</td>\n",
              "      <td>-23.557</td>\n",
              "      <td>15.0</td>\n",
              "      <td>5.8</td>\n",
              "      <td>1965-01-08 18:49:43</td>\n",
              "    </tr>\n",
              "    <tr>\n",
              "      <th>4</th>\n",
              "      <td>01/09/1965</td>\n",
              "      <td>13:32:50</td>\n",
              "      <td>11.938</td>\n",
              "      <td>126.427</td>\n",
              "      <td>15.0</td>\n",
              "      <td>5.8</td>\n",
              "      <td>1965-01-09 13:32:50</td>\n",
              "    </tr>\n",
              "  </tbody>\n",
              "</table>\n",
              "</div>\n",
              "      <button class=\"colab-df-convert\" onclick=\"convertToInteractive('df-9b5569d9-ea07-4a10-8843-088856f4ba00')\"\n",
              "              title=\"Convert this dataframe to an interactive table.\"\n",
              "              style=\"display:none;\">\n",
              "        \n",
              "  <svg xmlns=\"http://www.w3.org/2000/svg\" height=\"24px\"viewBox=\"0 0 24 24\"\n",
              "       width=\"24px\">\n",
              "    <path d=\"M0 0h24v24H0V0z\" fill=\"none\"/>\n",
              "    <path d=\"M18.56 5.44l.94 2.06.94-2.06 2.06-.94-2.06-.94-.94-2.06-.94 2.06-2.06.94zm-11 1L8.5 8.5l.94-2.06 2.06-.94-2.06-.94L8.5 2.5l-.94 2.06-2.06.94zm10 10l.94 2.06.94-2.06 2.06-.94-2.06-.94-.94-2.06-.94 2.06-2.06.94z\"/><path d=\"M17.41 7.96l-1.37-1.37c-.4-.4-.92-.59-1.43-.59-.52 0-1.04.2-1.43.59L10.3 9.45l-7.72 7.72c-.78.78-.78 2.05 0 2.83L4 21.41c.39.39.9.59 1.41.59.51 0 1.02-.2 1.41-.59l7.78-7.78 2.81-2.81c.8-.78.8-2.07 0-2.86zM5.41 20L4 18.59l7.72-7.72 1.47 1.35L5.41 20z\"/>\n",
              "  </svg>\n",
              "      </button>\n",
              "      \n",
              "  <style>\n",
              "    .colab-df-container {\n",
              "      display:flex;\n",
              "      flex-wrap:wrap;\n",
              "      gap: 12px;\n",
              "    }\n",
              "\n",
              "    .colab-df-convert {\n",
              "      background-color: #E8F0FE;\n",
              "      border: none;\n",
              "      border-radius: 50%;\n",
              "      cursor: pointer;\n",
              "      display: none;\n",
              "      fill: #1967D2;\n",
              "      height: 32px;\n",
              "      padding: 0 0 0 0;\n",
              "      width: 32px;\n",
              "    }\n",
              "\n",
              "    .colab-df-convert:hover {\n",
              "      background-color: #E2EBFA;\n",
              "      box-shadow: 0px 1px 2px rgba(60, 64, 67, 0.3), 0px 1px 3px 1px rgba(60, 64, 67, 0.15);\n",
              "      fill: #174EA6;\n",
              "    }\n",
              "\n",
              "    [theme=dark] .colab-df-convert {\n",
              "      background-color: #3B4455;\n",
              "      fill: #D2E3FC;\n",
              "    }\n",
              "\n",
              "    [theme=dark] .colab-df-convert:hover {\n",
              "      background-color: #434B5C;\n",
              "      box-shadow: 0px 1px 3px 1px rgba(0, 0, 0, 0.15);\n",
              "      filter: drop-shadow(0px 1px 2px rgba(0, 0, 0, 0.3));\n",
              "      fill: #FFFFFF;\n",
              "    }\n",
              "  </style>\n",
              "\n",
              "      <script>\n",
              "        const buttonEl =\n",
              "          document.querySelector('#df-9b5569d9-ea07-4a10-8843-088856f4ba00 button.colab-df-convert');\n",
              "        buttonEl.style.display =\n",
              "          google.colab.kernel.accessAllowed ? 'block' : 'none';\n",
              "\n",
              "        async function convertToInteractive(key) {\n",
              "          const element = document.querySelector('#df-9b5569d9-ea07-4a10-8843-088856f4ba00');\n",
              "          const dataTable =\n",
              "            await google.colab.kernel.invokeFunction('convertToInteractive',\n",
              "                                                     [key], {});\n",
              "          if (!dataTable) return;\n",
              "\n",
              "          const docLinkHtml = 'Like what you see? Visit the ' +\n",
              "            '<a target=\"_blank\" href=https://colab.research.google.com/notebooks/data_table.ipynb>data table notebook</a>'\n",
              "            + ' to learn more about interactive tables.';\n",
              "          element.innerHTML = '';\n",
              "          dataTable['output_type'] = 'display_data';\n",
              "          await google.colab.output.renderOutput(dataTable, element);\n",
              "          const docLink = document.createElement('div');\n",
              "          docLink.innerHTML = docLinkHtml;\n",
              "          element.appendChild(docLink);\n",
              "        }\n",
              "      </script>\n",
              "    </div>\n",
              "  </div>\n",
              "  "
            ]
          },
          "metadata": {},
          "execution_count": 169
        }
      ]
    },
    {
      "cell_type": "code",
      "source": [
        "#Parametros a definir:\n",
        "# Tiempo: tiempo desde el sismo en que se buscaran mas sismos (en segundos)\n",
        "# Distancia: Distancia desde el sismo en que se buscaran mas sismos (en kilometros)\n",
        "\n",
        "# Por ahora se definiran Tiempo: 864000s (10 dias), Distancia: 250km\n",
        "\n",
        "Tiempo = 864000\n",
        "Distancia = 250"
      ],
      "metadata": {
        "id": "jTHCCxOhJcE8"
      },
      "execution_count": null,
      "outputs": []
    },
    {
      "cell_type": "code",
      "source": [
        "df['Replicas'] = 0"
      ],
      "metadata": {
        "id": "Odxf8KETJoEj"
      },
      "execution_count": null,
      "outputs": []
    },
    {
      "cell_type": "code",
      "source": [
        "R = 6371 #Radio de la tierra en km\n",
        "\n",
        "for i in range(df.shape[0]):\n",
        "  for j in range(i+1,df.shape[0]):\n",
        "    if(i==j):\n",
        "      continue\n",
        "    d = math.acos(math.sin(math.radians(df.iloc[i,2]))*math.sin(math.radians(df.iloc[j,2]))+\n",
        "                  math.cos(math.radians(df.iloc[i,2]))*math.cos(math.radians(df.iloc[j,2]))*\n",
        "                  math.cos(math.radians(df.iloc[i,3]-df.iloc[j,3])))*R\n",
        "\n",
        "    dt = (df.iloc[j,6]-df.iloc[i,6]).total_seconds()\n",
        "    #print(dt)\n",
        "    if (dt > Tiempo):\n",
        "      break\n",
        "    elif (d <= Distancia):\n",
        "      df.iloc[i,7] = 1\n",
        "      break\n",
        "  #print(f\"Progreso: {i*10000/(df.shape[0]*100.0)}%\")"
      ],
      "metadata": {
        "id": "8ATNGHsFJqyF"
      },
      "execution_count": null,
      "outputs": []
    },
    {
      "cell_type": "code",
      "source": [
        "df.describe()"
      ],
      "metadata": {
        "colab": {
          "base_uri": "https://localhost:8080/",
          "height": 300
        },
        "id": "T8jU2dw6KqT4",
        "outputId": "927b15c0-6d87-4419-ae5f-daf0d8456049"
      },
      "execution_count": null,
      "outputs": [
        {
          "output_type": "execute_result",
          "data": {
            "text/plain": [
              "           Latitude     Longitude         Depth     Magnitude      Replicas\n",
              "count  23412.000000  23412.000000  23412.000000  23412.000000  23412.000000\n",
              "mean       1.679033     39.639961     70.767911      5.882531      0.274774\n",
              "std       30.113183    125.511959    122.651898      0.423066      0.446410\n",
              "min      -77.080000   -179.997000     -1.100000      5.500000      0.000000\n",
              "25%      -18.653000    -76.349750     14.522500      5.600000      0.000000\n",
              "50%       -3.568500    103.982000     33.000000      5.700000      0.000000\n",
              "75%       26.190750    145.026250     54.000000      6.000000      1.000000\n",
              "max       86.005000    179.998000    700.000000      9.100000      1.000000"
            ],
            "text/html": [
              "\n",
              "  <div id=\"df-09fb6217-aee4-4725-b0db-8ec7c02d2890\">\n",
              "    <div class=\"colab-df-container\">\n",
              "      <div>\n",
              "<style scoped>\n",
              "    .dataframe tbody tr th:only-of-type {\n",
              "        vertical-align: middle;\n",
              "    }\n",
              "\n",
              "    .dataframe tbody tr th {\n",
              "        vertical-align: top;\n",
              "    }\n",
              "\n",
              "    .dataframe thead th {\n",
              "        text-align: right;\n",
              "    }\n",
              "</style>\n",
              "<table border=\"1\" class=\"dataframe\">\n",
              "  <thead>\n",
              "    <tr style=\"text-align: right;\">\n",
              "      <th></th>\n",
              "      <th>Latitude</th>\n",
              "      <th>Longitude</th>\n",
              "      <th>Depth</th>\n",
              "      <th>Magnitude</th>\n",
              "      <th>Replicas</th>\n",
              "    </tr>\n",
              "  </thead>\n",
              "  <tbody>\n",
              "    <tr>\n",
              "      <th>count</th>\n",
              "      <td>23412.000000</td>\n",
              "      <td>23412.000000</td>\n",
              "      <td>23412.000000</td>\n",
              "      <td>23412.000000</td>\n",
              "      <td>23412.000000</td>\n",
              "    </tr>\n",
              "    <tr>\n",
              "      <th>mean</th>\n",
              "      <td>1.679033</td>\n",
              "      <td>39.639961</td>\n",
              "      <td>70.767911</td>\n",
              "      <td>5.882531</td>\n",
              "      <td>0.274774</td>\n",
              "    </tr>\n",
              "    <tr>\n",
              "      <th>std</th>\n",
              "      <td>30.113183</td>\n",
              "      <td>125.511959</td>\n",
              "      <td>122.651898</td>\n",
              "      <td>0.423066</td>\n",
              "      <td>0.446410</td>\n",
              "    </tr>\n",
              "    <tr>\n",
              "      <th>min</th>\n",
              "      <td>-77.080000</td>\n",
              "      <td>-179.997000</td>\n",
              "      <td>-1.100000</td>\n",
              "      <td>5.500000</td>\n",
              "      <td>0.000000</td>\n",
              "    </tr>\n",
              "    <tr>\n",
              "      <th>25%</th>\n",
              "      <td>-18.653000</td>\n",
              "      <td>-76.349750</td>\n",
              "      <td>14.522500</td>\n",
              "      <td>5.600000</td>\n",
              "      <td>0.000000</td>\n",
              "    </tr>\n",
              "    <tr>\n",
              "      <th>50%</th>\n",
              "      <td>-3.568500</td>\n",
              "      <td>103.982000</td>\n",
              "      <td>33.000000</td>\n",
              "      <td>5.700000</td>\n",
              "      <td>0.000000</td>\n",
              "    </tr>\n",
              "    <tr>\n",
              "      <th>75%</th>\n",
              "      <td>26.190750</td>\n",
              "      <td>145.026250</td>\n",
              "      <td>54.000000</td>\n",
              "      <td>6.000000</td>\n",
              "      <td>1.000000</td>\n",
              "    </tr>\n",
              "    <tr>\n",
              "      <th>max</th>\n",
              "      <td>86.005000</td>\n",
              "      <td>179.998000</td>\n",
              "      <td>700.000000</td>\n",
              "      <td>9.100000</td>\n",
              "      <td>1.000000</td>\n",
              "    </tr>\n",
              "  </tbody>\n",
              "</table>\n",
              "</div>\n",
              "      <button class=\"colab-df-convert\" onclick=\"convertToInteractive('df-09fb6217-aee4-4725-b0db-8ec7c02d2890')\"\n",
              "              title=\"Convert this dataframe to an interactive table.\"\n",
              "              style=\"display:none;\">\n",
              "        \n",
              "  <svg xmlns=\"http://www.w3.org/2000/svg\" height=\"24px\"viewBox=\"0 0 24 24\"\n",
              "       width=\"24px\">\n",
              "    <path d=\"M0 0h24v24H0V0z\" fill=\"none\"/>\n",
              "    <path d=\"M18.56 5.44l.94 2.06.94-2.06 2.06-.94-2.06-.94-.94-2.06-.94 2.06-2.06.94zm-11 1L8.5 8.5l.94-2.06 2.06-.94-2.06-.94L8.5 2.5l-.94 2.06-2.06.94zm10 10l.94 2.06.94-2.06 2.06-.94-2.06-.94-.94-2.06-.94 2.06-2.06.94z\"/><path d=\"M17.41 7.96l-1.37-1.37c-.4-.4-.92-.59-1.43-.59-.52 0-1.04.2-1.43.59L10.3 9.45l-7.72 7.72c-.78.78-.78 2.05 0 2.83L4 21.41c.39.39.9.59 1.41.59.51 0 1.02-.2 1.41-.59l7.78-7.78 2.81-2.81c.8-.78.8-2.07 0-2.86zM5.41 20L4 18.59l7.72-7.72 1.47 1.35L5.41 20z\"/>\n",
              "  </svg>\n",
              "      </button>\n",
              "      \n",
              "  <style>\n",
              "    .colab-df-container {\n",
              "      display:flex;\n",
              "      flex-wrap:wrap;\n",
              "      gap: 12px;\n",
              "    }\n",
              "\n",
              "    .colab-df-convert {\n",
              "      background-color: #E8F0FE;\n",
              "      border: none;\n",
              "      border-radius: 50%;\n",
              "      cursor: pointer;\n",
              "      display: none;\n",
              "      fill: #1967D2;\n",
              "      height: 32px;\n",
              "      padding: 0 0 0 0;\n",
              "      width: 32px;\n",
              "    }\n",
              "\n",
              "    .colab-df-convert:hover {\n",
              "      background-color: #E2EBFA;\n",
              "      box-shadow: 0px 1px 2px rgba(60, 64, 67, 0.3), 0px 1px 3px 1px rgba(60, 64, 67, 0.15);\n",
              "      fill: #174EA6;\n",
              "    }\n",
              "\n",
              "    [theme=dark] .colab-df-convert {\n",
              "      background-color: #3B4455;\n",
              "      fill: #D2E3FC;\n",
              "    }\n",
              "\n",
              "    [theme=dark] .colab-df-convert:hover {\n",
              "      background-color: #434B5C;\n",
              "      box-shadow: 0px 1px 3px 1px rgba(0, 0, 0, 0.15);\n",
              "      filter: drop-shadow(0px 1px 2px rgba(0, 0, 0, 0.3));\n",
              "      fill: #FFFFFF;\n",
              "    }\n",
              "  </style>\n",
              "\n",
              "      <script>\n",
              "        const buttonEl =\n",
              "          document.querySelector('#df-09fb6217-aee4-4725-b0db-8ec7c02d2890 button.colab-df-convert');\n",
              "        buttonEl.style.display =\n",
              "          google.colab.kernel.accessAllowed ? 'block' : 'none';\n",
              "\n",
              "        async function convertToInteractive(key) {\n",
              "          const element = document.querySelector('#df-09fb6217-aee4-4725-b0db-8ec7c02d2890');\n",
              "          const dataTable =\n",
              "            await google.colab.kernel.invokeFunction('convertToInteractive',\n",
              "                                                     [key], {});\n",
              "          if (!dataTable) return;\n",
              "\n",
              "          const docLinkHtml = 'Like what you see? Visit the ' +\n",
              "            '<a target=\"_blank\" href=https://colab.research.google.com/notebooks/data_table.ipynb>data table notebook</a>'\n",
              "            + ' to learn more about interactive tables.';\n",
              "          element.innerHTML = '';\n",
              "          dataTable['output_type'] = 'display_data';\n",
              "          await google.colab.output.renderOutput(dataTable, element);\n",
              "          const docLink = document.createElement('div');\n",
              "          docLink.innerHTML = docLinkHtml;\n",
              "          element.appendChild(docLink);\n",
              "        }\n",
              "      </script>\n",
              "    </div>\n",
              "  </div>\n",
              "  "
            ]
          },
          "metadata": {},
          "execution_count": 173
        }
      ]
    },
    {
      "cell_type": "code",
      "source": [
        "print(f\"Porcentaje de Sismos con Replicas con magnitud sobre 5.5: {100*df[df['Replicas'] !=0]['Date'].count()/df.shape[0]}%\")"
      ],
      "metadata": {
        "colab": {
          "base_uri": "https://localhost:8080/"
        },
        "id": "t142uGrWK8CS",
        "outputId": "617d7e28-e4ca-4c7e-a0f7-792007006b91"
      },
      "execution_count": null,
      "outputs": [
        {
          "output_type": "stream",
          "name": "stdout",
          "text": [
            "Porcentaje de Sismos con Replicas con magnitud sobre 5.5: 27.477362036562447%\n"
          ]
        }
      ]
    },
    {
      "cell_type": "code",
      "source": [
        "fig = plt.figure(figsize = (13,4))\n",
        "ax1 = fig.add_subplot(1,2,1)\n",
        "ax1.plot(df['Longitude'], df['Latitude'], \"b.\")\n",
        "\n",
        "ax2 = fig.add_subplot(1,2,2)\n",
        "ax2.plot(df['Depth'], \"b.\")\n",
        "\n",
        "ax2.set_ylim(max(df['Depth']), min(df['Depth']-50))\n",
        "\n",
        "plt.show()"
      ],
      "metadata": {
        "colab": {
          "base_uri": "https://localhost:8080/",
          "height": 265
        },
        "id": "ToNwJP2PSJmr",
        "outputId": "bfbad677-2c86-4cc2-f93b-4e1cc3cc3cab"
      },
      "execution_count": null,
      "outputs": [
        {
          "output_type": "display_data",
          "data": {
            "text/plain": [
              "<Figure size 936x288 with 2 Axes>"
            ],
            "image/png": "[encoded data removed]"
          },
          "metadata": {
            "needs_background": "light"
          }
        }
      ]
    },
    {
      "cell_type": "code",
      "source": [
        "df['Replicas'].hist();"
      ],
      "metadata": {
        "colab": {
          "base_uri": "https://localhost:8080/",
          "height": 265
        },
        "id": "gEL-3jHUMoI-",
        "outputId": "e8927071-aad5-4188-bf3c-f4abbeb1634f"
      },
      "execution_count": null,
      "outputs": [
        {
          "output_type": "display_data",
          "data": {
            "text/plain": [
              "<Figure size 432x288 with 1 Axes>"
            ],
            "image/png": "[encoded data removed]"
          },
          "metadata": {
            "needs_background": "light"
          }
        }
      ]
    },
    {
      "cell_type": "code",
      "source": [
        "from sklearn.cluster import KMeans"
      ],
      "metadata": {
        "id": "09aJCgKJNnJ2"
      },
      "execution_count": null,
      "outputs": []
    },
    {
      "cell_type": "code",
      "source": [
        "score = []\n",
        "\n",
        "X = df.drop(['Date', 'Time', 'DateTime'], axis = 1)\n",
        "k_clusters = range(1,21)\n",
        "for k in k_clusters:\n",
        "  kmeans = KMeans(n_clusters = k)\n",
        "  kmeans.fit(X)\n",
        "  score.append(-kmeans.score(X))\n",
        "\n",
        "plt.plot(k_clusters, score, 'b.-');"
      ],
      "metadata": {
        "colab": {
          "base_uri": "https://localhost:8080/",
          "height": 276
        },
        "id": "vK7UnRr_Nqte",
        "outputId": "379ca0a2-97b3-443e-f9d1-49c05490b0bb"
      },
      "execution_count": null,
      "outputs": [
        {
          "output_type": "display_data",
          "data": {
            "text/plain": [
              "<Figure size 432x288 with 1 Axes>"
            ],
            "image/png": "[encoded data removed]"
          },
          "metadata": {
            "needs_background": "light"
          }
        }
      ]
    },
    {
      "cell_type": "code",
      "source": [
        "y_pre = kmeans.predict(X)"
      ],
      "metadata": {
        "id": "0EiL9K9QPBmf"
      },
      "execution_count": null,
      "outputs": []
    },
    {
      "cell_type": "code",
      "source": [
        "X.head()"
      ],
      "metadata": {
        "colab": {
          "base_uri": "https://localhost:8080/",
          "height": 206
        },
        "id": "j1oIrJRePm5Q",
        "outputId": "4c3c9335-3246-4dd5-942d-caf87572245e"
      },
      "execution_count": null,
      "outputs": [
        {
          "output_type": "execute_result",
          "data": {
            "text/plain": [
              "   Latitude  Longitude  Depth  Magnitude  Replicas\n",
              "0    19.246    145.616  131.6        6.0         0\n",
              "1     1.863    127.352   80.0        5.8         0\n",
              "2   -20.579   -173.972   20.0        6.2         0\n",
              "3   -59.076    -23.557   15.0        5.8         0\n",
              "4    11.938    126.427   15.0        5.8         0"
            ],
            "text/html": [
              "\n",
              "  <div id=\"df-18c59dbb-79b8-49ea-b617-d0b640cc65bd\">\n",
              "    <div class=\"colab-df-container\">\n",
              "      <div>\n",
              "<style scoped>\n",
              "    .dataframe tbody tr th:only-of-type {\n",
              "        vertical-align: middle;\n",
              "    }\n",
              "\n",
              "    .dataframe tbody tr th {\n",
              "        vertical-align: top;\n",
              "    }\n",
              "\n",
              "    .dataframe thead th {\n",
              "        text-align: right;\n",
              "    }\n",
              "</style>\n",
              "<table border=\"1\" class=\"dataframe\">\n",
              "  <thead>\n",
              "    <tr style=\"text-align: right;\">\n",
              "      <th></th>\n",
              "      <th>Latitude</th>\n",
              "      <th>Longitude</th>\n",
              "      <th>Depth</th>\n",
              "      <th>Magnitude</th>\n",
              "      <th>Replicas</th>\n",
              "    </tr>\n",
              "  </thead>\n",
              "  <tbody>\n",
              "    <tr>\n",
              "      <th>0</th>\n",
              "      <td>19.246</td>\n",
              "      <td>145.616</td>\n",
              "      <td>131.6</td>\n",
              "      <td>6.0</td>\n",
              "      <td>0</td>\n",
              "    </tr>\n",
              "    <tr>\n",
              "      <th>1</th>\n",
              "      <td>1.863</td>\n",
              "      <td>127.352</td>\n",
              "      <td>80.0</td>\n",
              "      <td>5.8</td>\n",
              "      <td>0</td>\n",
              "    </tr>\n",
              "    <tr>\n",
              "      <th>2</th>\n",
              "      <td>-20.579</td>\n",
              "      <td>-173.972</td>\n",
              "      <td>20.0</td>\n",
              "      <td>6.2</td>\n",
              "      <td>0</td>\n",
              "    </tr>\n",
              "    <tr>\n",
              "      <th>3</th>\n",
              "      <td>-59.076</td>\n",
              "      <td>-23.557</td>\n",
              "      <td>15.0</td>\n",
              "      <td>5.8</td>\n",
              "      <td>0</td>\n",
              "    </tr>\n",
              "    <tr>\n",
              "      <th>4</th>\n",
              "      <td>11.938</td>\n",
              "      <td>126.427</td>\n",
              "      <td>15.0</td>\n",
              "      <td>5.8</td>\n",
              "      <td>0</td>\n",
              "    </tr>\n",
              "  </tbody>\n",
              "</table>\n",
              "</div>\n",
              "      <button class=\"colab-df-convert\" onclick=\"convertToInteractive('df-18c59dbb-79b8-49ea-b617-d0b640cc65bd')\"\n",
              "              title=\"Convert this dataframe to an interactive table.\"\n",
              "              style=\"display:none;\">\n",
              "        \n",
              "  <svg xmlns=\"http://www.w3.org/2000/svg\" height=\"24px\"viewBox=\"0 0 24 24\"\n",
              "       width=\"24px\">\n",
              "    <path d=\"M0 0h24v24H0V0z\" fill=\"none\"/>\n",
              "    <path d=\"M18.56 5.44l.94 2.06.94-2.06 2.06-.94-2.06-.94-.94-2.06-.94 2.06-2.06.94zm-11 1L8.5 8.5l.94-2.06 2.06-.94-2.06-.94L8.5 2.5l-.94 2.06-2.06.94zm10 10l.94 2.06.94-2.06 2.06-.94-2.06-.94-.94-2.06-.94 2.06-2.06.94z\"/><path d=\"M17.41 7.96l-1.37-1.37c-.4-.4-.92-.59-1.43-.59-.52 0-1.04.2-1.43.59L10.3 9.45l-7.72 7.72c-.78.78-.78 2.05 0 2.83L4 21.41c.39.39.9.59 1.41.59.51 0 1.02-.2 1.41-.59l7.78-7.78 2.81-2.81c.8-.78.8-2.07 0-2.86zM5.41 20L4 18.59l7.72-7.72 1.47 1.35L5.41 20z\"/>\n",
              "  </svg>\n",
              "      </button>\n",
              "      \n",
              "  <style>\n",
              "    .colab-df-container {\n",
              "      display:flex;\n",
              "      flex-wrap:wrap;\n",
              "      gap: 12px;\n",
              "    }\n",
              "\n",
              "    .colab-df-convert {\n",
              "      background-color: #E8F0FE;\n",
              "      border: none;\n",
              "      border-radius: 50%;\n",
              "      cursor: pointer;\n",
              "      display: none;\n",
              "      fill: #1967D2;\n",
              "      height: 32px;\n",
              "      padding: 0 0 0 0;\n",
              "      width: 32px;\n",
              "    }\n",
              "\n",
              "    .colab-df-convert:hover {\n",
              "      background-color: #E2EBFA;\n",
              "      box-shadow: 0px 1px 2px rgba(60, 64, 67, 0.3), 0px 1px 3px 1px rgba(60, 64, 67, 0.15);\n",
              "      fill: #174EA6;\n",
              "    }\n",
              "\n",
              "    [theme=dark] .colab-df-convert {\n",
              "      background-color: #3B4455;\n",
              "      fill: #D2E3FC;\n",
              "    }\n",
              "\n",
              "    [theme=dark] .colab-df-convert:hover {\n",
              "      background-color: #434B5C;\n",
              "      box-shadow: 0px 1px 3px 1px rgba(0, 0, 0, 0.15);\n",
              "      filter: drop-shadow(0px 1px 2px rgba(0, 0, 0, 0.3));\n",
              "      fill: #FFFFFF;\n",
              "    }\n",
              "  </style>\n",
              "\n",
              "      <script>\n",
              "        const buttonEl =\n",
              "          document.querySelector('#df-18c59dbb-79b8-49ea-b617-d0b640cc65bd button.colab-df-convert');\n",
              "        buttonEl.style.display =\n",
              "          google.colab.kernel.accessAllowed ? 'block' : 'none';\n",
              "\n",
              "        async function convertToInteractive(key) {\n",
              "          const element = document.querySelector('#df-18c59dbb-79b8-49ea-b617-d0b640cc65bd');\n",
              "          const dataTable =\n",
              "            await google.colab.kernel.invokeFunction('convertToInteractive',\n",
              "                                                     [key], {});\n",
              "          if (!dataTable) return;\n",
              "\n",
              "          const docLinkHtml = 'Like what you see? Visit the ' +\n",
              "            '<a target=\"_blank\" href=https://colab.research.google.com/notebooks/data_table.ipynb>data table notebook</a>'\n",
              "            + ' to learn more about interactive tables.';\n",
              "          element.innerHTML = '';\n",
              "          dataTable['output_type'] = 'display_data';\n",
              "          await google.colab.output.renderOutput(dataTable, element);\n",
              "          const docLink = document.createElement('div');\n",
              "          docLink.innerHTML = docLinkHtml;\n",
              "          element.appendChild(docLink);\n",
              "        }\n",
              "      </script>\n",
              "    </div>\n",
              "  </div>\n",
              "  "
            ]
          },
          "metadata": {},
          "execution_count": 182
        }
      ]
    },
    {
      "cell_type": "code",
      "source": [
        "kmeans = KMeans(n_clusters = 3)\n",
        "kmeans.fit(X)\n",
        "y_pre = kmeans.predict(X)\n"
      ],
      "metadata": {
        "id": "nfjuDmMsPPah"
      },
      "execution_count": null,
      "outputs": []
    },
    {
      "cell_type": "code",
      "source": [],
      "metadata": {
        "id": "4ZiVD6mGQATA"
      },
      "execution_count": null,
      "outputs": []
    },
    {
      "cell_type": "code",
      "source": [
        "fig = plt.figure(figsize = (13,4))\n",
        "ax1 = fig.add_subplot(1,2,1)\n",
        "ax1.plot(X[y_pre==0]['Longitude'], X[y_pre==0]['Latitude'], 'r.')\n",
        "ax1.plot(X[y_pre==1]['Longitude'], X[y_pre==1]['Latitude'], 'g.')\n",
        "ax1.plot(X[y_pre==2]['Longitude'], X[y_pre==2]['Latitude'], 'b.')\n",
        "\n",
        "ax2 = fig.add_subplot(1,2,2)\n",
        "ax2.plot(X[y_pre==0]['Longitude'], X[y_pre==0]['Depth'], 'r.')\n",
        "ax2.plot(X[y_pre==1]['Longitude'], X[y_pre==1]['Depth'], 'g.')\n",
        "ax2.plot(X[y_pre==2]['Longitude'], X[y_pre==2]['Depth'], 'b.')\n",
        "\n",
        "ax2.set_ylim(max(df['Depth']), min(df['Depth']-50))\n",
        "\n",
        "plt.show()"
      ],
      "metadata": {
        "colab": {
          "base_uri": "https://localhost:8080/",
          "height": 265
        },
        "id": "NlboWZ6BP5UN",
        "outputId": "0269fc1d-cdcd-4e7f-a92b-360e8c7c1bb2"
      },
      "execution_count": null,
      "outputs": [
        {
          "output_type": "display_data",
          "data": {
            "text/plain": [
              "<Figure size 936x288 with 2 Axes>"
            ],
            "image/png": "[encoded data removed]"
          },
          "metadata": {
            "needs_background": "light"
          }
        }
      ]
    },
    {
      "cell_type": "code",
      "source": [
        "fig = plt.figure(figsize = (13,4))\n",
        "ax1 = fig.add_subplot(1,2,1)\n",
        "ax1.plot(X[y_pre==0]['Longitude'], X[y_pre==0]['Latitude'], 'r.')\n",
        "ax1.plot(X[y_pre==2]['Longitude'], X[y_pre==2]['Latitude'], 'b.')\n",
        "\n",
        "ax1.set_xlim(-180,180)\n",
        "ax1.set_ylim(-90,90)\n",
        "\n",
        "ax2 = fig.add_subplot(1,2,2)\n",
        "\n",
        "ax2.plot(X[y_pre==1]['Longitude'], X[y_pre==1]['Latitude'], 'g.')\n",
        "ax2.set_xlim(-180,180)\n",
        "ax2.set_ylim(-90,90)\n",
        "plt.show()"
      ],
      "metadata": {
        "colab": {
          "base_uri": "https://localhost:8080/",
          "height": 265
        },
        "id": "NnrT5zx4Z-cR",
        "outputId": "ec697c9d-82f4-4603-fccd-9f77018023fe"
      },
      "execution_count": null,
      "outputs": [
        {
          "output_type": "display_data",
          "data": {
            "text/plain": [
              "<Figure size 936x288 with 2 Axes>"
            ],
            "image/png": "[encoded data removed]"
          },
          "metadata": {
            "needs_background": "light"
          }
        }
      ]
    },
    {
      "cell_type": "code",
      "source": [
        "X_sup = X.drop(X[y_pre == 1].index, axis = 0)\n",
        "X_deep = X[y_pre == 1]\n",
        "X_sup.info()"
      ],
      "metadata": {
        "colab": {
          "base_uri": "https://localhost:8080/"
        },
        "id": "vf3ZD4KFSlvZ",
        "outputId": "5b974fe6-ddee-484f-806a-aa63357744b7"
      },
      "execution_count": null,
      "outputs": [
        {
          "output_type": "stream",
          "name": "stdout",
          "text": [
            "<class 'pandas.core.frame.DataFrame'>\n",
            "Int64Index: 22091 entries, 0 to 23411\n",
            "Data columns (total 5 columns):\n",
            " #   Column     Non-Null Count  Dtype  \n",
            "---  ------     --------------  -----  \n",
            " 0   Latitude   22091 non-null  float64\n",
            " 1   Longitude  22091 non-null  float64\n",
            " 2   Depth      22091 non-null  float64\n",
            " 3   Magnitude  22091 non-null  float64\n",
            " 4   Replicas   22091 non-null  int64  \n",
            "dtypes: float64(4), int64(1)\n",
            "memory usage: 1.0 MB\n"
          ]
        }
      ]
    },
    {
      "cell_type": "code",
      "source": [
        "\n",
        "X_sup['Depth'].hist()\n"
      ],
      "metadata": {
        "colab": {
          "base_uri": "https://localhost:8080/",
          "height": 282
        },
        "id": "O-v7DVlrTuaz",
        "outputId": "b8e01b44-5a81-4a61-bb0a-d71aeed51cab"
      },
      "execution_count": null,
      "outputs": [
        {
          "output_type": "execute_result",
          "data": {
            "text/plain": [
              "<matplotlib.axes._subplots.AxesSubplot at 0x7f529cf9b050>"
            ]
          },
          "metadata": {},
          "execution_count": 198
        },
        {
          "output_type": "display_data",
          "data": {
            "text/plain": [
              "<Figure size 432x288 with 1 Axes>"
            ],
            "image/png": "[encoded data removed]"
          },
          "metadata": {
            "needs_background": "light"
          }
        }
      ]
    },
    {
      "cell_type": "code",
      "source": [
        "X['Depth'].hist()"
      ],
      "metadata": {
        "colab": {
          "base_uri": "https://localhost:8080/",
          "height": 282
        },
        "id": "MGuHH0CtT5Mz",
        "outputId": "5ef448a2-6124-4e87-ac65-53c5de679ec4"
      },
      "execution_count": null,
      "outputs": [
        {
          "output_type": "execute_result",
          "data": {
            "text/plain": [
              "<matplotlib.axes._subplots.AxesSubplot at 0x7f52b27abad0>"
            ]
          },
          "metadata": {},
          "execution_count": 199
        },
        {
          "output_type": "display_data",
          "data": {
            "text/plain": [
              "<Figure size 432x288 with 1 Axes>"
            ],
            "image/png": "[encoded data removed]"
          },
          "metadata": {
            "needs_background": "light"
          }
        }
      ]
    },
    {
      "cell_type": "code",
      "source": [
        "X_deep['Depth'].hist()"
      ],
      "metadata": {
        "colab": {
          "base_uri": "https://localhost:8080/",
          "height": 282
        },
        "id": "mkTJ5gOPbNp_",
        "outputId": "0e535c0c-0046-4a0b-a37e-31d4a9bef648"
      },
      "execution_count": null,
      "outputs": [
        {
          "output_type": "execute_result",
          "data": {
            "text/plain": [
              "<matplotlib.axes._subplots.AxesSubplot at 0x7f529e22e090>"
            ]
          },
          "metadata": {},
          "execution_count": 200
        },
        {
          "output_type": "display_data",
          "data": {
            "text/plain": [
              "<Figure size 432x288 with 1 Axes>"
            ],
            "image/png": "[encoded data removed]"
          },
          "metadata": {
            "needs_background": "light"
          }
        }
      ]
    },
    {
      "cell_type": "code",
      "source": [
        "print(f\"Porcentaje de Sismos superficiales con Replicas con magnitud sobre 5.5: {100*X_sup[X_sup['Replicas'] !=0]['Longitude'].count()/X_sup.shape[0]}%\")\n",
        "print(f\"Porcentaje de Sismos profundoscon Replicas con magnitud sobre 5.5: {100*X_deep[X_deep['Replicas'] !=0]['Longitude'].count()/X_deep.shape[0]}%\")"
      ],
      "metadata": {
        "colab": {
          "base_uri": "https://localhost:8080/"
        },
        "id": "w2KsVDjuTSWP",
        "outputId": "60678cfc-c060-4ff5-c803-2d3f9e0f47a5"
      },
      "execution_count": null,
      "outputs": [
        {
          "output_type": "stream",
          "name": "stdout",
          "text": [
            "Porcentaje de Sismos superficiales con Replicas con magnitud sobre 5.5: 29.623109024517476%\n",
            "Porcentaje de Sismos profundoscon Replicas con magnitud sobre 5.5: 23.40267459138187%\n"
          ]
        }
      ]
    },
    {
      "cell_type": "code",
      "source": [
        "from sklearn.cluster import DBSCAN\n",
        "\n",
        "dbscan = DBSCAN(eps = 25, min_samples = 15)\n",
        "y_dbscan = dbscan.fit_predict(X)\n",
        "\n",
        "print(f\"min: {min(y_dbscan)} max: {max(y_dbscan)}\")"
      ],
      "metadata": {
        "colab": {
          "base_uri": "https://localhost:8080/"
        },
        "id": "se_aKD3Ch3LO",
        "outputId": "22f75ea6-4576-4777-8a33-8eaaa8e61079"
      },
      "execution_count": null,
      "outputs": [
        {
          "output_type": "stream",
          "name": "stdout",
          "text": [
            "min: -1 max: 6\n"
          ]
        }
      ]
    },
    {
      "cell_type": "code",
      "source": [
        "fig = plt.figure(figsize = (13,4))\n",
        "ax1 = fig.add_subplot(1,2,1)\n",
        "ax1.plot(X[y_dbscan==-1]['Longitude'], X[y_dbscan==-1]['Latitude'], 'k.')\n",
        "ax1.plot(X[y_dbscan==0]['Longitude'], X[y_dbscan==0]['Latitude'], 'r.')\n",
        "ax1.plot(X[y_dbscan==1]['Longitude'], X[y_dbscan==1]['Latitude'], 'g.')\n",
        "ax1.plot(X[y_dbscan==2]['Longitude'], X[y_dbscan==2]['Latitude'], 'b.')\n",
        "ax1.plot(X[y_dbscan==3]['Longitude'], X[y_dbscan==3]['Latitude'], 'c.')\n",
        "ax1.plot(X[y_dbscan==4]['Longitude'], X[y_dbscan==4]['Latitude'], 'm.')\n",
        "ax1.plot(X[y_dbscan==5]['Longitude'], X[y_dbscan==5]['Latitude'], 'y.')\n",
        "ax1.plot(X[y_dbscan==6]['Longitude'], X[y_dbscan==6]['Latitude'], '.', markerfacecolor = 'pink')\n",
        "\n",
        "ax2 = fig.add_subplot(1,2,2)\n",
        "ax2.plot(X[y_dbscan==-1]['Longitude'], X[y_dbscan==-1]['Depth'], 'k.')\n",
        "ax2.plot(X[y_dbscan==0]['Longitude'], X[y_dbscan==0]['Depth'], 'r.')\n",
        "ax2.plot(X[y_dbscan==1]['Longitude'], X[y_dbscan==1]['Depth'], 'g.')\n",
        "ax2.plot(X[y_dbscan==2]['Longitude'], X[y_dbscan==2]['Depth'], 'b.')\n",
        "ax2.plot(X[y_dbscan==3]['Longitude'], X[y_dbscan==3]['Depth'], 'c.')\n",
        "ax2.plot(X[y_dbscan==4]['Longitude'], X[y_dbscan==4]['Depth'], 'm.')\n",
        "ax2.plot(X[y_dbscan==5]['Longitude'], X[y_dbscan==5]['Depth'], 'y.')\n",
        "ax2.plot(X[y_dbscan==6]['Longitude'], X[y_dbscan==6]['Depth'], '.', markerfacecolor = 'pink')\n",
        "\n",
        "ax2.set_ylim(max(df['Depth']), min(df['Depth']-50))\n",
        "\n",
        "plt.show()"
      ],
      "metadata": {
        "colab": {
          "base_uri": "https://localhost:8080/",
          "height": 265
        },
        "id": "ZuhX4tdGiAdt",
        "outputId": "36e0e434-8bac-4b46-fdd2-b0177c90feda"
      },
      "execution_count": null,
      "outputs": [
        {
          "output_type": "display_data",
          "data": {
            "text/plain": [
              "<Figure size 936x288 with 2 Axes>"
            ],
            "image/png": "[encoded data removed]"
          },
          "metadata": {
            "needs_background": "light"
          }
        }
      ]
    }
  ]
}